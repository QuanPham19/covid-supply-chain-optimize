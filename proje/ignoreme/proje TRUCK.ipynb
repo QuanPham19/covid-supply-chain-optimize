{
 "cells": [
  {
   "cell_type": "markdown",
   "source": [
    "### Import libraries and other helper classes"
   ],
   "metadata": {
    "collapsed": false,
    "id": "ysCdX4FotBwC"
   }
  },
  {
   "cell_type": "code",
   "execution_count": 1,
   "outputs": [],
   "source": [
    "# !pip install rsome\n",
    "# !pip install gurobipy\n",
    "# !pip install openpyxl\n",
    "# !pip install matplotlib\n",
    "# !pip install seaborn\n",
    "# !pip install sklearn\n",
    "import pandas as pd\n",
    "import numpy as np\n",
    "import matplotlib.pyplot as plt\n",
    "from rsome import ro\n",
    "from rsome import grb_solver as grb"
   ],
   "metadata": {
    "id": "Qosfs-u8tBwH"
   }
  },
  {
   "cell_type": "code",
   "source": [
    "from enum import Enum\n",
    "\n",
    "class TRANSPORT_MODE(Enum):\n",
    "    TRUCK = \"Truck\"\n",
    "    RAIL = \"Rail\"\n",
    "    AIR = \"Air\""
   ],
   "metadata": {
    "id": "marYbyuduqrL"
   },
   "execution_count": 2,
   "outputs": []
  },
  {
   "cell_type": "code",
   "execution_count": 3,
   "outputs": [],
   "source": [
    "from enum import Enum\n",
    "\n",
    "class SCTG_CATEGORIES(Enum):\n",
    "    URGENT = \"Perishable products and Pharmaceutical items\"\n",
    "    PRIORITY = \"Machinery and Energy-related items\"\n",
    "    OTHERS = \"Other Items\""
   ],
   "metadata": {
    "id": "nc3tw3rZtBwJ"
   }
  },
  {
   "cell_type": "markdown",
   "source": [
    "### Import the main dataset"
   ],
   "metadata": {
    "collapsed": false,
    "id": "xVj4uhtGtBwJ"
   }
  },
  {
   "cell_type": "code",
   "source": [
    "# from google.colab \\\n",
    "# import drive\n",
    "# import os, glob\n",
    "#\n",
    "# my_name = 'proje.ipynb'\n",
    "#\n",
    "# drive.mount(os.getcwd() + '/drive', force_remount=True)\n",
    "# my_path = glob.glob(os.getcwd() + '/**/' +\n",
    "# my_name, recursive = True)\n",
    "#\n",
    "# my_path = [my_i\n",
    "#            for my_i in my_path if len(my_i) in [max([len(my_i)\n",
    "#            for my_i in my_path])]\n",
    "#           ][0]\n",
    "#\n",
    "# my_path = my_path.split('/')[:-1]\n",
    "#\n",
    "# my_dir = ''\n",
    "# for i in my_path:\n",
    "#   my_dir += i + '/'\n",
    "# print(my_dir)\n",
    "my_dir = ''"
   ],
   "metadata": {
    "id": "M6cnWktXzvN1"
   },
   "execution_count": 4,
   "outputs": []
  },
  {
   "cell_type": "code",
   "execution_count": 5,
   "outputs": [
    {
     "data": {
      "text/plain": "   SHIPMT_ID  ORIG_STATE  ORIG_MA ORIG_CFS_AREA  DEST_STATE  DEST_MA   \n0          1          25      148        25-148          25      148  \\\n1          2          42      428        42-428           6    41740   \n2          3          26      220        26-220          47      314   \n3          4          20      556        20-556          20      556   \n4          5          12    99999      12-99999          12    99999   \n\n  DEST_CFS_AREA  NAICS  QUARTER SCTG  MODE  SHIPMT_VALUE  SHIPMT_WGHT   \n0        25-148    333        2   35    14          2178           11  \\\n1      06-41740    311        3   35    14           344           11   \n2        47-314    322        2   27     4          4197         5134   \n3        20-556    323        1   29     4           116            6   \n4      12-99999   4235        3   33     5           388          527   \n\n   SHIPMT_DIST_GC  SHIPMT_DIST_ROUTED TEMP_CNTL_YN EXPORT_YN EXPORT_CNTRY   \n0              14                  17            N         N            N  \\\n1            2344                2734            N         N            N   \n2             470                 579            N         N            N   \n3               3                   3            N         N            N   \n4             124                 201            N         N            N   \n\n  HAZMAT  WGT_FACTOR  \n0      N       208.5  \n1      N       193.3  \n2      N        51.2  \n3      N       238.7  \n4      N       398.1  ",
      "text/html": "<div>\n<style scoped>\n    .dataframe tbody tr th:only-of-type {\n        vertical-align: middle;\n    }\n\n    .dataframe tbody tr th {\n        vertical-align: top;\n    }\n\n    .dataframe thead th {\n        text-align: right;\n    }\n</style>\n<table border=\"1\" class=\"dataframe\">\n  <thead>\n    <tr style=\"text-align: right;\">\n      <th></th>\n      <th>SHIPMT_ID</th>\n      <th>ORIG_STATE</th>\n      <th>ORIG_MA</th>\n      <th>ORIG_CFS_AREA</th>\n      <th>DEST_STATE</th>\n      <th>DEST_MA</th>\n      <th>DEST_CFS_AREA</th>\n      <th>NAICS</th>\n      <th>QUARTER</th>\n      <th>SCTG</th>\n      <th>MODE</th>\n      <th>SHIPMT_VALUE</th>\n      <th>SHIPMT_WGHT</th>\n      <th>SHIPMT_DIST_GC</th>\n      <th>SHIPMT_DIST_ROUTED</th>\n      <th>TEMP_CNTL_YN</th>\n      <th>EXPORT_YN</th>\n      <th>EXPORT_CNTRY</th>\n      <th>HAZMAT</th>\n      <th>WGT_FACTOR</th>\n    </tr>\n  </thead>\n  <tbody>\n    <tr>\n      <th>0</th>\n      <td>1</td>\n      <td>25</td>\n      <td>148</td>\n      <td>25-148</td>\n      <td>25</td>\n      <td>148</td>\n      <td>25-148</td>\n      <td>333</td>\n      <td>2</td>\n      <td>35</td>\n      <td>14</td>\n      <td>2178</td>\n      <td>11</td>\n      <td>14</td>\n      <td>17</td>\n      <td>N</td>\n      <td>N</td>\n      <td>N</td>\n      <td>N</td>\n      <td>208.5</td>\n    </tr>\n    <tr>\n      <th>1</th>\n      <td>2</td>\n      <td>42</td>\n      <td>428</td>\n      <td>42-428</td>\n      <td>6</td>\n      <td>41740</td>\n      <td>06-41740</td>\n      <td>311</td>\n      <td>3</td>\n      <td>35</td>\n      <td>14</td>\n      <td>344</td>\n      <td>11</td>\n      <td>2344</td>\n      <td>2734</td>\n      <td>N</td>\n      <td>N</td>\n      <td>N</td>\n      <td>N</td>\n      <td>193.3</td>\n    </tr>\n    <tr>\n      <th>2</th>\n      <td>3</td>\n      <td>26</td>\n      <td>220</td>\n      <td>26-220</td>\n      <td>47</td>\n      <td>314</td>\n      <td>47-314</td>\n      <td>322</td>\n      <td>2</td>\n      <td>27</td>\n      <td>4</td>\n      <td>4197</td>\n      <td>5134</td>\n      <td>470</td>\n      <td>579</td>\n      <td>N</td>\n      <td>N</td>\n      <td>N</td>\n      <td>N</td>\n      <td>51.2</td>\n    </tr>\n    <tr>\n      <th>3</th>\n      <td>4</td>\n      <td>20</td>\n      <td>556</td>\n      <td>20-556</td>\n      <td>20</td>\n      <td>556</td>\n      <td>20-556</td>\n      <td>323</td>\n      <td>1</td>\n      <td>29</td>\n      <td>4</td>\n      <td>116</td>\n      <td>6</td>\n      <td>3</td>\n      <td>3</td>\n      <td>N</td>\n      <td>N</td>\n      <td>N</td>\n      <td>N</td>\n      <td>238.7</td>\n    </tr>\n    <tr>\n      <th>4</th>\n      <td>5</td>\n      <td>12</td>\n      <td>99999</td>\n      <td>12-99999</td>\n      <td>12</td>\n      <td>99999</td>\n      <td>12-99999</td>\n      <td>4235</td>\n      <td>3</td>\n      <td>33</td>\n      <td>5</td>\n      <td>388</td>\n      <td>527</td>\n      <td>124</td>\n      <td>201</td>\n      <td>N</td>\n      <td>N</td>\n      <td>N</td>\n      <td>N</td>\n      <td>398.1</td>\n    </tr>\n  </tbody>\n</table>\n</div>"
     },
     "execution_count": 5,
     "metadata": {},
     "output_type": "execute_result"
    }
   ],
   "source": [
    "df_full = pd.read_csv(my_dir+\"cfs_2012_pumf_csv.csv\")\n",
    "df_full.head()"
   ],
   "metadata": {
    "id": "7OJjtu19tBwK"
   }
  },
  {
   "cell_type": "markdown",
   "source": [
    "### Import the data on transport mode and map"
   ],
   "metadata": {
    "collapsed": false,
    "id": "A6fw5zN0tBwL"
   }
  },
  {
   "cell_type": "code",
   "execution_count": 6,
   "outputs": [
    {
     "data": {
      "text/plain": "    Mode Code Mode of transportation Description\n0           2                        Single mode\n1           3                              Truck\n2           4                     For-hire truck\n3           5                      Private truck\n4           6                               Rail\n5           7                              Water\n6           8                       Inland Water\n7           9                        Great Lakes\n8          10                           Deep Sea\n9         101                 Multiple Waterways\n10         11             Air (incl truck & air)\n11         12                           Pipeline\n12         13                      Multiple mode\n13         14           Parcel, USPS, or courier\n14         20               Non-parcel multimode\n15         15                     Truck and rail\n16         16                    Truck and water\n17         17                     Rail and water\n18         18                Other multiple mode\n19         19                         Other mode\n20          0                    Mode suppressed",
      "text/html": "<div>\n<style scoped>\n    .dataframe tbody tr th:only-of-type {\n        vertical-align: middle;\n    }\n\n    .dataframe tbody tr th {\n        vertical-align: top;\n    }\n\n    .dataframe thead th {\n        text-align: right;\n    }\n</style>\n<table border=\"1\" class=\"dataframe\">\n  <thead>\n    <tr style=\"text-align: right;\">\n      <th></th>\n      <th>Mode Code</th>\n      <th>Mode of transportation Description</th>\n    </tr>\n  </thead>\n  <tbody>\n    <tr>\n      <th>0</th>\n      <td>2</td>\n      <td>Single mode</td>\n    </tr>\n    <tr>\n      <th>1</th>\n      <td>3</td>\n      <td>Truck</td>\n    </tr>\n    <tr>\n      <th>2</th>\n      <td>4</td>\n      <td>For-hire truck</td>\n    </tr>\n    <tr>\n      <th>3</th>\n      <td>5</td>\n      <td>Private truck</td>\n    </tr>\n    <tr>\n      <th>4</th>\n      <td>6</td>\n      <td>Rail</td>\n    </tr>\n    <tr>\n      <th>5</th>\n      <td>7</td>\n      <td>Water</td>\n    </tr>\n    <tr>\n      <th>6</th>\n      <td>8</td>\n      <td>Inland Water</td>\n    </tr>\n    <tr>\n      <th>7</th>\n      <td>9</td>\n      <td>Great Lakes</td>\n    </tr>\n    <tr>\n      <th>8</th>\n      <td>10</td>\n      <td>Deep Sea</td>\n    </tr>\n    <tr>\n      <th>9</th>\n      <td>101</td>\n      <td>Multiple Waterways</td>\n    </tr>\n    <tr>\n      <th>10</th>\n      <td>11</td>\n      <td>Air (incl truck &amp; air)</td>\n    </tr>\n    <tr>\n      <th>11</th>\n      <td>12</td>\n      <td>Pipeline</td>\n    </tr>\n    <tr>\n      <th>12</th>\n      <td>13</td>\n      <td>Multiple mode</td>\n    </tr>\n    <tr>\n      <th>13</th>\n      <td>14</td>\n      <td>Parcel, USPS, or courier</td>\n    </tr>\n    <tr>\n      <th>14</th>\n      <td>20</td>\n      <td>Non-parcel multimode</td>\n    </tr>\n    <tr>\n      <th>15</th>\n      <td>15</td>\n      <td>Truck and rail</td>\n    </tr>\n    <tr>\n      <th>16</th>\n      <td>16</td>\n      <td>Truck and water</td>\n    </tr>\n    <tr>\n      <th>17</th>\n      <td>17</td>\n      <td>Rail and water</td>\n    </tr>\n    <tr>\n      <th>18</th>\n      <td>18</td>\n      <td>Other multiple mode</td>\n    </tr>\n    <tr>\n      <th>19</th>\n      <td>19</td>\n      <td>Other mode</td>\n    </tr>\n    <tr>\n      <th>20</th>\n      <td>0</td>\n      <td>Mode suppressed</td>\n    </tr>\n  </tbody>\n</table>\n</div>"
     },
     "execution_count": 6,
     "metadata": {},
     "output_type": "execute_result"
    }
   ],
   "source": [
    "transport_mode = pd.read_excel(my_dir+'cfs-2012-pum-file-users-guide-app-a-jun2015.xlsx', sheet_name='App A4', header=1).iloc[:, :2]\n",
    "last_row_with_nan = transport_mode.isna().all(axis=1).to_numpy().nonzero()[0][-1]-2\n",
    "transport_mode = transport_mode.iloc[:last_row_with_nan, :]\n",
    "transport_mode['Mode Code'] = transport_mode['Mode Code'].astype(int)\n",
    "transport_mode.head(9999)"
   ],
   "metadata": {
    "id": "Z9pr8oMKtBwM"
   }
  },
  {
   "cell_type": "code",
   "execution_count": 7,
   "outputs": [],
   "source": [
    "transport_mode_mapper = {}\n",
    "transport_mode_mapper['Single mode']                = TRANSPORT_MODE.TRUCK.value\n",
    "transport_mode_mapper['Truck']                      = TRANSPORT_MODE.TRUCK.value\n",
    "transport_mode_mapper['For-hire truck']             = TRANSPORT_MODE.TRUCK.value\n",
    "transport_mode_mapper['Private truck']              = TRANSPORT_MODE.TRUCK.value\n",
    "transport_mode_mapper['Rail']                       = TRANSPORT_MODE.RAIL.value\n",
    "transport_mode_mapper['Water']                      = np.nan\n",
    "transport_mode_mapper['Inland Water']               = np.nan\n",
    "transport_mode_mapper['Great Lakes']                = np.nan\n",
    "transport_mode_mapper['Deep Sea']                   = np.nan\n",
    "transport_mode_mapper['Multiple Waterways']         = np.nan\n",
    "transport_mode_mapper['Air (incl truck & air)']     = TRANSPORT_MODE.AIR.value\n",
    "transport_mode_mapper['Pipeline']                   = np.nan\n",
    "transport_mode_mapper['Multiple mode']              = np.nan\n",
    "transport_mode_mapper['Parcel, USPS, or courier']   = np.nan\n",
    "transport_mode_mapper['Non-parcel multimode']       = TRANSPORT_MODE.TRUCK.value\n",
    "transport_mode_mapper['Truck and rail']             = TRANSPORT_MODE.TRUCK.value\n",
    "transport_mode_mapper['Truck and water']            = TRANSPORT_MODE.TRUCK.value\n",
    "transport_mode_mapper['Rail and water']             = TRANSPORT_MODE.RAIL.value\n",
    "transport_mode_mapper['Other multiple mode']        = np.nan\n",
    "transport_mode_mapper['Other mode']                 = np.nan\n",
    "transport_mode_mapper['Mode suppressed']            = np.nan\n",
    "transport_mode['TRANSPORT_MODE'] = transport_mode['Mode of transportation Description'].map(transport_mode_mapper)"
   ],
   "metadata": {
    "id": "2NQxhF9WtBwM"
   }
  },
  {
   "cell_type": "markdown",
   "source": [
    "### Import the data on goods type (SCTG) and map"
   ],
   "metadata": {
    "collapsed": false,
    "id": "-7BzvefYtBwN"
   }
  },
  {
   "cell_type": "code",
   "execution_count": 8,
   "outputs": [
    {
     "data": {
      "text/plain": "    SCTG                                        Description\n0      1                            Animals and Fish (live)\n1      2                      Cereal Grains (includes seed)\n2      3  Agricultural Products (excludes Animal Feed, C...\n3      4  Animal Feed, Eggs, Honey, and Other Products o...\n4      5  Meat, Poultry, Fish, Seafood, and Their Prepar...\n5      6  Milled Grain Products and Preparations, and Ba...\n6      7       Other Prepared Foodstuffs, and Fats and Oils\n7      8          Alcoholic Beverages and Denatured Alcohol\n8      9                                   Tobacco Products\n9     10                       Monumental or Building Stone\n10    11                                      Natural Sands\n11    12  Gravel and Crushed Stone (excludes Dolomite an...\n12    13  Other Non-Metallic Minerals not elsewhere clas...\n13    14                     Metallic Ores and Concentrates\n14    15                                               Coal\n15    16                                    Crude Petroleum\n16    17  Gasoline, Aviation Turbine Fuel, and Ethanol (...\n17    18  Fuel Oils (includes Diesel, Bunker C, and Biod...\n18    19  Other Coal and Petroleum Products, not elsewhe...\n19    20                                    Basic Chemicals\n20    21                            Pharmaceutical Products\n21    22                                        Fertilizers\n22    23           Other Chemical Products and Preparations\n23    24                                Plastics and Rubber\n24    25                   Logs and Other Wood in the Rough\n25    26                                      Wood Products\n26    27             Pulp, Newsprint, Paper, and Paperboard\n27    28                       Paper or Paperboard Articles\n28    29                                   Printed Products\n29    30  Textiles, Leather, and Articles of Textiles or...\n30    31                      Non-Metallic Mineral Products\n31    32  Base Metal in Primary or Semi-Finished Forms a...\n32    33                             Articles of Base Metal\n33    34                                          Machinery\n34    35  Electronic and Other Electrical Equipment and ...\n35    36      Motorized and Other Vehicles (includes parts)\n36    37  Transportation Equipment, not elsewhere classi...\n37    38                Precision Instruments and Apparatus\n38    39  Furniture, Mattresses and Mattress Supports, L...\n39    40                Miscellaneous Manufactured Products\n40    41  Waste and Scrap (excludes of agriculture or fo...\n41    43                                      Mixed Freight\n42    99                                       Missing Code\n43     0                                    SCTG suppressed",
      "text/html": "<div>\n<style scoped>\n    .dataframe tbody tr th:only-of-type {\n        vertical-align: middle;\n    }\n\n    .dataframe tbody tr th {\n        vertical-align: top;\n    }\n\n    .dataframe thead th {\n        text-align: right;\n    }\n</style>\n<table border=\"1\" class=\"dataframe\">\n  <thead>\n    <tr style=\"text-align: right;\">\n      <th></th>\n      <th>SCTG</th>\n      <th>Description</th>\n    </tr>\n  </thead>\n  <tbody>\n    <tr>\n      <th>0</th>\n      <td>1</td>\n      <td>Animals and Fish (live)</td>\n    </tr>\n    <tr>\n      <th>1</th>\n      <td>2</td>\n      <td>Cereal Grains (includes seed)</td>\n    </tr>\n    <tr>\n      <th>2</th>\n      <td>3</td>\n      <td>Agricultural Products (excludes Animal Feed, C...</td>\n    </tr>\n    <tr>\n      <th>3</th>\n      <td>4</td>\n      <td>Animal Feed, Eggs, Honey, and Other Products o...</td>\n    </tr>\n    <tr>\n      <th>4</th>\n      <td>5</td>\n      <td>Meat, Poultry, Fish, Seafood, and Their Prepar...</td>\n    </tr>\n    <tr>\n      <th>5</th>\n      <td>6</td>\n      <td>Milled Grain Products and Preparations, and Ba...</td>\n    </tr>\n    <tr>\n      <th>6</th>\n      <td>7</td>\n      <td>Other Prepared Foodstuffs, and Fats and Oils</td>\n    </tr>\n    <tr>\n      <th>7</th>\n      <td>8</td>\n      <td>Alcoholic Beverages and Denatured Alcohol</td>\n    </tr>\n    <tr>\n      <th>8</th>\n      <td>9</td>\n      <td>Tobacco Products</td>\n    </tr>\n    <tr>\n      <th>9</th>\n      <td>10</td>\n      <td>Monumental or Building Stone</td>\n    </tr>\n    <tr>\n      <th>10</th>\n      <td>11</td>\n      <td>Natural Sands</td>\n    </tr>\n    <tr>\n      <th>11</th>\n      <td>12</td>\n      <td>Gravel and Crushed Stone (excludes Dolomite an...</td>\n    </tr>\n    <tr>\n      <th>12</th>\n      <td>13</td>\n      <td>Other Non-Metallic Minerals not elsewhere clas...</td>\n    </tr>\n    <tr>\n      <th>13</th>\n      <td>14</td>\n      <td>Metallic Ores and Concentrates</td>\n    </tr>\n    <tr>\n      <th>14</th>\n      <td>15</td>\n      <td>Coal</td>\n    </tr>\n    <tr>\n      <th>15</th>\n      <td>16</td>\n      <td>Crude Petroleum</td>\n    </tr>\n    <tr>\n      <th>16</th>\n      <td>17</td>\n      <td>Gasoline, Aviation Turbine Fuel, and Ethanol (...</td>\n    </tr>\n    <tr>\n      <th>17</th>\n      <td>18</td>\n      <td>Fuel Oils (includes Diesel, Bunker C, and Biod...</td>\n    </tr>\n    <tr>\n      <th>18</th>\n      <td>19</td>\n      <td>Other Coal and Petroleum Products, not elsewhe...</td>\n    </tr>\n    <tr>\n      <th>19</th>\n      <td>20</td>\n      <td>Basic Chemicals</td>\n    </tr>\n    <tr>\n      <th>20</th>\n      <td>21</td>\n      <td>Pharmaceutical Products</td>\n    </tr>\n    <tr>\n      <th>21</th>\n      <td>22</td>\n      <td>Fertilizers</td>\n    </tr>\n    <tr>\n      <th>22</th>\n      <td>23</td>\n      <td>Other Chemical Products and Preparations</td>\n    </tr>\n    <tr>\n      <th>23</th>\n      <td>24</td>\n      <td>Plastics and Rubber</td>\n    </tr>\n    <tr>\n      <th>24</th>\n      <td>25</td>\n      <td>Logs and Other Wood in the Rough</td>\n    </tr>\n    <tr>\n      <th>25</th>\n      <td>26</td>\n      <td>Wood Products</td>\n    </tr>\n    <tr>\n      <th>26</th>\n      <td>27</td>\n      <td>Pulp, Newsprint, Paper, and Paperboard</td>\n    </tr>\n    <tr>\n      <th>27</th>\n      <td>28</td>\n      <td>Paper or Paperboard Articles</td>\n    </tr>\n    <tr>\n      <th>28</th>\n      <td>29</td>\n      <td>Printed Products</td>\n    </tr>\n    <tr>\n      <th>29</th>\n      <td>30</td>\n      <td>Textiles, Leather, and Articles of Textiles or...</td>\n    </tr>\n    <tr>\n      <th>30</th>\n      <td>31</td>\n      <td>Non-Metallic Mineral Products</td>\n    </tr>\n    <tr>\n      <th>31</th>\n      <td>32</td>\n      <td>Base Metal in Primary or Semi-Finished Forms a...</td>\n    </tr>\n    <tr>\n      <th>32</th>\n      <td>33</td>\n      <td>Articles of Base Metal</td>\n    </tr>\n    <tr>\n      <th>33</th>\n      <td>34</td>\n      <td>Machinery</td>\n    </tr>\n    <tr>\n      <th>34</th>\n      <td>35</td>\n      <td>Electronic and Other Electrical Equipment and ...</td>\n    </tr>\n    <tr>\n      <th>35</th>\n      <td>36</td>\n      <td>Motorized and Other Vehicles (includes parts)</td>\n    </tr>\n    <tr>\n      <th>36</th>\n      <td>37</td>\n      <td>Transportation Equipment, not elsewhere classi...</td>\n    </tr>\n    <tr>\n      <th>37</th>\n      <td>38</td>\n      <td>Precision Instruments and Apparatus</td>\n    </tr>\n    <tr>\n      <th>38</th>\n      <td>39</td>\n      <td>Furniture, Mattresses and Mattress Supports, L...</td>\n    </tr>\n    <tr>\n      <th>39</th>\n      <td>40</td>\n      <td>Miscellaneous Manufactured Products</td>\n    </tr>\n    <tr>\n      <th>40</th>\n      <td>41</td>\n      <td>Waste and Scrap (excludes of agriculture or fo...</td>\n    </tr>\n    <tr>\n      <th>41</th>\n      <td>43</td>\n      <td>Mixed Freight</td>\n    </tr>\n    <tr>\n      <th>42</th>\n      <td>99</td>\n      <td>Missing Code</td>\n    </tr>\n    <tr>\n      <th>43</th>\n      <td>0</td>\n      <td>SCTG suppressed</td>\n    </tr>\n  </tbody>\n</table>\n</div>"
     },
     "execution_count": 8,
     "metadata": {},
     "output_type": "execute_result"
    }
   ],
   "source": [
    "goods_type = pd.read_excel(my_dir+'cfs-2012-pum-file-users-guide-app-a-jun2015.xlsx', sheet_name='App A3', header=1).iloc[:, :2]\n",
    "goods_type.head(9999999)"
   ],
   "metadata": {
    "id": "fu4suS2jtBwO"
   }
  },
  {
   "cell_type": "code",
   "execution_count": 9,
   "outputs": [],
   "source": [
    "goods_type_mapper = {}\n",
    "goods_type_mapper['Animals and Fish (live)']                                                          = SCTG_CATEGORIES.URGENT.value\n",
    "goods_type_mapper['Cereal Grains (includes seed)']                                                    = SCTG_CATEGORIES.URGENT.value\n",
    "goods_type_mapper['Agricultural Products (excludes Animal Feed, Cereal Grains, and Forage Products)'] = SCTG_CATEGORIES.URGENT.value\n",
    "goods_type_mapper['Animal Feed, Eggs, Honey, and Other Products of Animal Origin']                    = SCTG_CATEGORIES.URGENT.value\n",
    "goods_type_mapper['Meat, Poultry, Fish, Seafood, and Their Preparations']                             = SCTG_CATEGORIES.URGENT.value\n",
    "goods_type_mapper['Milled Grain Products and Preparations, and Bakery Products']                      = SCTG_CATEGORIES.URGENT.value\n",
    "goods_type_mapper['Other Prepared Foodstuffs, and Fats and Oils']                                     = SCTG_CATEGORIES.URGENT.value\n",
    "goods_type_mapper['Alcoholic Beverages and Denatured Alcohol']                                        = SCTG_CATEGORIES.OTHERS.value\n",
    "goods_type_mapper['Tobacco Products']                                                                 = SCTG_CATEGORIES.OTHERS.value\n",
    "goods_type_mapper['Monumental or Building Stone']                                                     = SCTG_CATEGORIES.OTHERS.value\n",
    "goods_type_mapper['Natural Sands']                                                                    = SCTG_CATEGORIES.OTHERS.value\n",
    "goods_type_mapper['Gravel and Crushed Stone (excludes Dolomite and Slate)']                           = SCTG_CATEGORIES.OTHERS.value\n",
    "goods_type_mapper['Other Non-Metallic Minerals not elsewhere classified']                             = SCTG_CATEGORIES.PRIORITY.value\n",
    "goods_type_mapper['Metallic Ores and Concentrates']                                                   = SCTG_CATEGORIES.PRIORITY.value\n",
    "goods_type_mapper['Coal']                                                                             = SCTG_CATEGORIES.PRIORITY.value\n",
    "goods_type_mapper['Crude Petroleum']                                                                  = SCTG_CATEGORIES.PRIORITY.value\n",
    "goods_type_mapper['Gasoline, Aviation Turbine Fuel, and Ethanol (includes Kerosene, and Fuel Alcohols)'] = SCTG_CATEGORIES.PRIORITY.value\n",
    "goods_type_mapper['Fuel Oils (includes Diesel, Bunker C, and Biodiesel)']                             = SCTG_CATEGORIES.PRIORITY.value\n",
    "goods_type_mapper['Other Coal and Petroleum Products, not elsewhere classified']                      = SCTG_CATEGORIES.PRIORITY.value\n",
    "goods_type_mapper['Basic Chemicals']                                                                  = SCTG_CATEGORIES.PRIORITY.value\n",
    "goods_type_mapper['Pharmaceutical Products']                                                          = SCTG_CATEGORIES.URGENT.value\n",
    "goods_type_mapper['Fertilizers']                                                                      = SCTG_CATEGORIES.URGENT.value\n",
    "goods_type_mapper['Other Chemical Products and Preparations']                                         = SCTG_CATEGORIES.URGENT.value\n",
    "goods_type_mapper['Plastics and Rubber']                                                              = SCTG_CATEGORIES.PRIORITY.value\n",
    "goods_type_mapper['Logs and Other Wood in the Rough']                                                 = SCTG_CATEGORIES.PRIORITY.value\n",
    "goods_type_mapper['Wood Products']                                                                    = SCTG_CATEGORIES.PRIORITY.value\n",
    "goods_type_mapper['Pulp, Newsprint, Paper, and Paperboard']                                           = SCTG_CATEGORIES.OTHERS.value\n",
    "goods_type_mapper['Paper or Paperboard Articles']                                                     = SCTG_CATEGORIES.OTHERS.value\n",
    "goods_type_mapper['Printed Products']                                                                 = SCTG_CATEGORIES.OTHERS.value\n",
    "goods_type_mapper['Textiles, Leather, and Articles of Textiles or Leather']                           = SCTG_CATEGORIES.URGENT.value\n",
    "goods_type_mapper['Non-Metallic Mineral Products']                                                    = SCTG_CATEGORIES.PRIORITY.value\n",
    "goods_type_mapper['Base Metal in Primary or Semi-Finished Forms and in Finished Basic Shapes']        = SCTG_CATEGORIES.PRIORITY.value\n",
    "goods_type_mapper['Articles of Base Metal']                                                           = SCTG_CATEGORIES.PRIORITY.value\n",
    "goods_type_mapper['Machinery']                                                                        = SCTG_CATEGORIES.PRIORITY.value\n",
    "goods_type_mapper['Electronic and Other Electrical Equipment and Components, and Office Equipment']   = SCTG_CATEGORIES.OTHERS.value\n",
    "goods_type_mapper['Motorized and Other Vehicles (includes parts)']                                    = SCTG_CATEGORIES.OTHERS.value\n",
    "goods_type_mapper['Transportation Equipment, not elsewhere classified']                               = SCTG_CATEGORIES.OTHERS.value\n",
    "goods_type_mapper['Precision Instruments and Apparatus']                                              = SCTG_CATEGORIES.OTHERS.value\n",
    "goods_type_mapper['Furniture, Mattresses and Mattress Supports, Lamps, Lighting Fittings, and Illuminated Signs'] = SCTG_CATEGORIES.OTHERS.value\n",
    "goods_type_mapper['Miscellaneous Manufactured Products']                                              = SCTG_CATEGORIES.OTHERS.value\n",
    "goods_type_mapper['Waste and Scrap (excludes of agriculture or food, see 041xx)']                     = SCTG_CATEGORIES.OTHERS.value\n",
    "goods_type_mapper['Mixed Freight']                                                                    = SCTG_CATEGORIES.OTHERS.value\n",
    "goods_type_mapper['Missing Code']                                                                     = SCTG_CATEGORIES.OTHERS.value\n",
    "goods_type_mapper['SCTG suppressed']                                                                  = SCTG_CATEGORIES.OTHERS.value\n",
    "goods_type['GOOD_CATEGORY'] = goods_type['Description'].map(goods_type_mapper)"
   ],
   "metadata": {
    "id": "W-UeWiZDtBwO"
   }
  },
  {
   "cell_type": "code",
   "source": [
    "goods_type.head(9999999999)"
   ],
   "metadata": {
    "id": "h2mEQFsfKm2z"
   },
   "execution_count": 10,
   "outputs": [
    {
     "data": {
      "text/plain": "    SCTG                                        Description   \n0      1                            Animals and Fish (live)  \\\n1      2                      Cereal Grains (includes seed)   \n2      3  Agricultural Products (excludes Animal Feed, C...   \n3      4  Animal Feed, Eggs, Honey, and Other Products o...   \n4      5  Meat, Poultry, Fish, Seafood, and Their Prepar...   \n5      6  Milled Grain Products and Preparations, and Ba...   \n6      7       Other Prepared Foodstuffs, and Fats and Oils   \n7      8          Alcoholic Beverages and Denatured Alcohol   \n8      9                                   Tobacco Products   \n9     10                       Monumental or Building Stone   \n10    11                                      Natural Sands   \n11    12  Gravel and Crushed Stone (excludes Dolomite an...   \n12    13  Other Non-Metallic Minerals not elsewhere clas...   \n13    14                     Metallic Ores and Concentrates   \n14    15                                               Coal   \n15    16                                    Crude Petroleum   \n16    17  Gasoline, Aviation Turbine Fuel, and Ethanol (...   \n17    18  Fuel Oils (includes Diesel, Bunker C, and Biod...   \n18    19  Other Coal and Petroleum Products, not elsewhe...   \n19    20                                    Basic Chemicals   \n20    21                            Pharmaceutical Products   \n21    22                                        Fertilizers   \n22    23           Other Chemical Products and Preparations   \n23    24                                Plastics and Rubber   \n24    25                   Logs and Other Wood in the Rough   \n25    26                                      Wood Products   \n26    27             Pulp, Newsprint, Paper, and Paperboard   \n27    28                       Paper or Paperboard Articles   \n28    29                                   Printed Products   \n29    30  Textiles, Leather, and Articles of Textiles or...   \n30    31                      Non-Metallic Mineral Products   \n31    32  Base Metal in Primary or Semi-Finished Forms a...   \n32    33                             Articles of Base Metal   \n33    34                                          Machinery   \n34    35  Electronic and Other Electrical Equipment and ...   \n35    36      Motorized and Other Vehicles (includes parts)   \n36    37  Transportation Equipment, not elsewhere classi...   \n37    38                Precision Instruments and Apparatus   \n38    39  Furniture, Mattresses and Mattress Supports, L...   \n39    40                Miscellaneous Manufactured Products   \n40    41  Waste and Scrap (excludes of agriculture or fo...   \n41    43                                      Mixed Freight   \n42    99                                       Missing Code   \n43     0                                    SCTG suppressed   \n\n                                   GOOD_CATEGORY  \n0   Perishable products and Pharmaceutical items  \n1   Perishable products and Pharmaceutical items  \n2   Perishable products and Pharmaceutical items  \n3   Perishable products and Pharmaceutical items  \n4   Perishable products and Pharmaceutical items  \n5   Perishable products and Pharmaceutical items  \n6   Perishable products and Pharmaceutical items  \n7                                    Other Items  \n8                                    Other Items  \n9                                    Other Items  \n10                                   Other Items  \n11                                   Other Items  \n12            Machinery and Energy-related items  \n13            Machinery and Energy-related items  \n14            Machinery and Energy-related items  \n15            Machinery and Energy-related items  \n16            Machinery and Energy-related items  \n17            Machinery and Energy-related items  \n18            Machinery and Energy-related items  \n19            Machinery and Energy-related items  \n20  Perishable products and Pharmaceutical items  \n21  Perishable products and Pharmaceutical items  \n22  Perishable products and Pharmaceutical items  \n23            Machinery and Energy-related items  \n24            Machinery and Energy-related items  \n25            Machinery and Energy-related items  \n26                                   Other Items  \n27                                   Other Items  \n28                                   Other Items  \n29  Perishable products and Pharmaceutical items  \n30            Machinery and Energy-related items  \n31            Machinery and Energy-related items  \n32            Machinery and Energy-related items  \n33            Machinery and Energy-related items  \n34                                   Other Items  \n35                                   Other Items  \n36                                   Other Items  \n37                                   Other Items  \n38                                   Other Items  \n39                                   Other Items  \n40                                   Other Items  \n41                                   Other Items  \n42                                   Other Items  \n43                                   Other Items  ",
      "text/html": "<div>\n<style scoped>\n    .dataframe tbody tr th:only-of-type {\n        vertical-align: middle;\n    }\n\n    .dataframe tbody tr th {\n        vertical-align: top;\n    }\n\n    .dataframe thead th {\n        text-align: right;\n    }\n</style>\n<table border=\"1\" class=\"dataframe\">\n  <thead>\n    <tr style=\"text-align: right;\">\n      <th></th>\n      <th>SCTG</th>\n      <th>Description</th>\n      <th>GOOD_CATEGORY</th>\n    </tr>\n  </thead>\n  <tbody>\n    <tr>\n      <th>0</th>\n      <td>1</td>\n      <td>Animals and Fish (live)</td>\n      <td>Perishable products and Pharmaceutical items</td>\n    </tr>\n    <tr>\n      <th>1</th>\n      <td>2</td>\n      <td>Cereal Grains (includes seed)</td>\n      <td>Perishable products and Pharmaceutical items</td>\n    </tr>\n    <tr>\n      <th>2</th>\n      <td>3</td>\n      <td>Agricultural Products (excludes Animal Feed, C...</td>\n      <td>Perishable products and Pharmaceutical items</td>\n    </tr>\n    <tr>\n      <th>3</th>\n      <td>4</td>\n      <td>Animal Feed, Eggs, Honey, and Other Products o...</td>\n      <td>Perishable products and Pharmaceutical items</td>\n    </tr>\n    <tr>\n      <th>4</th>\n      <td>5</td>\n      <td>Meat, Poultry, Fish, Seafood, and Their Prepar...</td>\n      <td>Perishable products and Pharmaceutical items</td>\n    </tr>\n    <tr>\n      <th>5</th>\n      <td>6</td>\n      <td>Milled Grain Products and Preparations, and Ba...</td>\n      <td>Perishable products and Pharmaceutical items</td>\n    </tr>\n    <tr>\n      <th>6</th>\n      <td>7</td>\n      <td>Other Prepared Foodstuffs, and Fats and Oils</td>\n      <td>Perishable products and Pharmaceutical items</td>\n    </tr>\n    <tr>\n      <th>7</th>\n      <td>8</td>\n      <td>Alcoholic Beverages and Denatured Alcohol</td>\n      <td>Other Items</td>\n    </tr>\n    <tr>\n      <th>8</th>\n      <td>9</td>\n      <td>Tobacco Products</td>\n      <td>Other Items</td>\n    </tr>\n    <tr>\n      <th>9</th>\n      <td>10</td>\n      <td>Monumental or Building Stone</td>\n      <td>Other Items</td>\n    </tr>\n    <tr>\n      <th>10</th>\n      <td>11</td>\n      <td>Natural Sands</td>\n      <td>Other Items</td>\n    </tr>\n    <tr>\n      <th>11</th>\n      <td>12</td>\n      <td>Gravel and Crushed Stone (excludes Dolomite an...</td>\n      <td>Other Items</td>\n    </tr>\n    <tr>\n      <th>12</th>\n      <td>13</td>\n      <td>Other Non-Metallic Minerals not elsewhere clas...</td>\n      <td>Machinery and Energy-related items</td>\n    </tr>\n    <tr>\n      <th>13</th>\n      <td>14</td>\n      <td>Metallic Ores and Concentrates</td>\n      <td>Machinery and Energy-related items</td>\n    </tr>\n    <tr>\n      <th>14</th>\n      <td>15</td>\n      <td>Coal</td>\n      <td>Machinery and Energy-related items</td>\n    </tr>\n    <tr>\n      <th>15</th>\n      <td>16</td>\n      <td>Crude Petroleum</td>\n      <td>Machinery and Energy-related items</td>\n    </tr>\n    <tr>\n      <th>16</th>\n      <td>17</td>\n      <td>Gasoline, Aviation Turbine Fuel, and Ethanol (...</td>\n      <td>Machinery and Energy-related items</td>\n    </tr>\n    <tr>\n      <th>17</th>\n      <td>18</td>\n      <td>Fuel Oils (includes Diesel, Bunker C, and Biod...</td>\n      <td>Machinery and Energy-related items</td>\n    </tr>\n    <tr>\n      <th>18</th>\n      <td>19</td>\n      <td>Other Coal and Petroleum Products, not elsewhe...</td>\n      <td>Machinery and Energy-related items</td>\n    </tr>\n    <tr>\n      <th>19</th>\n      <td>20</td>\n      <td>Basic Chemicals</td>\n      <td>Machinery and Energy-related items</td>\n    </tr>\n    <tr>\n      <th>20</th>\n      <td>21</td>\n      <td>Pharmaceutical Products</td>\n      <td>Perishable products and Pharmaceutical items</td>\n    </tr>\n    <tr>\n      <th>21</th>\n      <td>22</td>\n      <td>Fertilizers</td>\n      <td>Perishable products and Pharmaceutical items</td>\n    </tr>\n    <tr>\n      <th>22</th>\n      <td>23</td>\n      <td>Other Chemical Products and Preparations</td>\n      <td>Perishable products and Pharmaceutical items</td>\n    </tr>\n    <tr>\n      <th>23</th>\n      <td>24</td>\n      <td>Plastics and Rubber</td>\n      <td>Machinery and Energy-related items</td>\n    </tr>\n    <tr>\n      <th>24</th>\n      <td>25</td>\n      <td>Logs and Other Wood in the Rough</td>\n      <td>Machinery and Energy-related items</td>\n    </tr>\n    <tr>\n      <th>25</th>\n      <td>26</td>\n      <td>Wood Products</td>\n      <td>Machinery and Energy-related items</td>\n    </tr>\n    <tr>\n      <th>26</th>\n      <td>27</td>\n      <td>Pulp, Newsprint, Paper, and Paperboard</td>\n      <td>Other Items</td>\n    </tr>\n    <tr>\n      <th>27</th>\n      <td>28</td>\n      <td>Paper or Paperboard Articles</td>\n      <td>Other Items</td>\n    </tr>\n    <tr>\n      <th>28</th>\n      <td>29</td>\n      <td>Printed Products</td>\n      <td>Other Items</td>\n    </tr>\n    <tr>\n      <th>29</th>\n      <td>30</td>\n      <td>Textiles, Leather, and Articles of Textiles or...</td>\n      <td>Perishable products and Pharmaceutical items</td>\n    </tr>\n    <tr>\n      <th>30</th>\n      <td>31</td>\n      <td>Non-Metallic Mineral Products</td>\n      <td>Machinery and Energy-related items</td>\n    </tr>\n    <tr>\n      <th>31</th>\n      <td>32</td>\n      <td>Base Metal in Primary or Semi-Finished Forms a...</td>\n      <td>Machinery and Energy-related items</td>\n    </tr>\n    <tr>\n      <th>32</th>\n      <td>33</td>\n      <td>Articles of Base Metal</td>\n      <td>Machinery and Energy-related items</td>\n    </tr>\n    <tr>\n      <th>33</th>\n      <td>34</td>\n      <td>Machinery</td>\n      <td>Machinery and Energy-related items</td>\n    </tr>\n    <tr>\n      <th>34</th>\n      <td>35</td>\n      <td>Electronic and Other Electrical Equipment and ...</td>\n      <td>Other Items</td>\n    </tr>\n    <tr>\n      <th>35</th>\n      <td>36</td>\n      <td>Motorized and Other Vehicles (includes parts)</td>\n      <td>Other Items</td>\n    </tr>\n    <tr>\n      <th>36</th>\n      <td>37</td>\n      <td>Transportation Equipment, not elsewhere classi...</td>\n      <td>Other Items</td>\n    </tr>\n    <tr>\n      <th>37</th>\n      <td>38</td>\n      <td>Precision Instruments and Apparatus</td>\n      <td>Other Items</td>\n    </tr>\n    <tr>\n      <th>38</th>\n      <td>39</td>\n      <td>Furniture, Mattresses and Mattress Supports, L...</td>\n      <td>Other Items</td>\n    </tr>\n    <tr>\n      <th>39</th>\n      <td>40</td>\n      <td>Miscellaneous Manufactured Products</td>\n      <td>Other Items</td>\n    </tr>\n    <tr>\n      <th>40</th>\n      <td>41</td>\n      <td>Waste and Scrap (excludes of agriculture or fo...</td>\n      <td>Other Items</td>\n    </tr>\n    <tr>\n      <th>41</th>\n      <td>43</td>\n      <td>Mixed Freight</td>\n      <td>Other Items</td>\n    </tr>\n    <tr>\n      <th>42</th>\n      <td>99</td>\n      <td>Missing Code</td>\n      <td>Other Items</td>\n    </tr>\n    <tr>\n      <th>43</th>\n      <td>0</td>\n      <td>SCTG suppressed</td>\n      <td>Other Items</td>\n    </tr>\n  </tbody>\n</table>\n</div>"
     },
     "execution_count": 10,
     "metadata": {},
     "output_type": "execute_result"
    }
   ]
  },
  {
   "cell_type": "markdown",
   "source": [
    "### Merge transport mode and goods type with the main dataset"
   ],
   "metadata": {
    "collapsed": false,
    "id": "ZtQuqazWtBwP"
   }
  },
  {
   "cell_type": "code",
   "execution_count": 11,
   "outputs": [],
   "source": [
    "df_full = pd.merge(df_full, transport_mode, how='left', left_on='MODE', right_on='Mode Code')"
   ],
   "metadata": {
    "id": "O0rA9yNNtBwQ"
   }
  },
  {
   "cell_type": "code",
   "execution_count": 12,
   "outputs": [],
   "source": [
    "def get_first_ID(str):\n",
    "    return str.split('-')[0]\n",
    "\n",
    "# apply the function to the 'Name' column using apply()\n",
    "df_full['SCTG'] = df_full['SCTG'].astype('str')\n",
    "df_full['SCTG'] = df_full['SCTG'].apply(get_first_ID)"
   ],
   "metadata": {
    "id": "si5pRsfatBwQ"
   }
  },
  {
   "cell_type": "code",
   "source": [
    "df_full['SCTG'] = df_full['SCTG'].astype('int')\n",
    "df_full = pd.merge(df_full, goods_type, how='left', on='SCTG')"
   ],
   "metadata": {
    "id": "J3UicGEIEO14"
   },
   "execution_count": 13,
   "outputs": []
  },
  {
   "cell_type": "markdown",
   "source": [
    "### Extract subset of data"
   ],
   "metadata": {
    "id": "_ZIiaKsaG1wb"
   }
  },
  {
   "cell_type": "code",
   "source": [
    "df_full = df_full[['SHIPMT_ID', 'ORIG_STATE', 'DEST_STATE', 'QUARTER', 'MODE', 'SHIPMT_VALUE', 'SHIPMT_WGHT', 'SHIPMT_DIST_ROUTED', 'TRANSPORT_MODE', 'GOOD_CATEGORY']]\n",
    "df_full = df_full.dropna()\n",
    "df_full"
   ],
   "metadata": {
    "id": "2xoH-NkIG59A"
   },
   "execution_count": 14,
   "outputs": [
    {
     "data": {
      "text/plain": "         SHIPMT_ID  ORIG_STATE  DEST_STATE  QUARTER  MODE  SHIPMT_VALUE   \n2                3          26          47        2     4          4197  \\\n3                4          20          20        1     4           116   \n4                5          12          12        3     5           388   \n5                6          24          30        2     4          3716   \n6                7          19          19        3     5         43738   \n...            ...         ...         ...      ...   ...           ...   \n4547655    4547656          48          48        3     5          1820   \n4547657    4547658          39          28        3     4         50808   \n4547658    4547659          36          36        4     5           685   \n4547659    4547660          48          48        3     5           915   \n4547660    4547661          30          30        1     4         22482   \n\n         SHIPMT_WGHT  SHIPMT_DIST_ROUTED TRANSPORT_MODE   \n2               5134                 579          Truck  \\\n3                  6                   3          Truck   \n4                527                 201          Truck   \n5               1132                2265          Truck   \n6              13501                  22          Truck   \n...              ...                 ...            ...   \n4547655           38                   5          Truck   \n4547657        29887                 683          Truck   \n4547658          137                  16          Truck   \n4547659         1240                  22          Truck   \n4547660        75952                  12          Truck   \n\n                                        GOOD_CATEGORY  \n2                                         Other Items  \n3                                         Other Items  \n4                  Machinery and Energy-related items  \n5                                         Other Items  \n6                  Machinery and Energy-related items  \n...                                               ...  \n4547655            Machinery and Energy-related items  \n4547657  Perishable products and Pharmaceutical items  \n4547658                                   Other Items  \n4547659            Machinery and Energy-related items  \n4547660  Perishable products and Pharmaceutical items  \n\n[3369067 rows x 10 columns]",
      "text/html": "<div>\n<style scoped>\n    .dataframe tbody tr th:only-of-type {\n        vertical-align: middle;\n    }\n\n    .dataframe tbody tr th {\n        vertical-align: top;\n    }\n\n    .dataframe thead th {\n        text-align: right;\n    }\n</style>\n<table border=\"1\" class=\"dataframe\">\n  <thead>\n    <tr style=\"text-align: right;\">\n      <th></th>\n      <th>SHIPMT_ID</th>\n      <th>ORIG_STATE</th>\n      <th>DEST_STATE</th>\n      <th>QUARTER</th>\n      <th>MODE</th>\n      <th>SHIPMT_VALUE</th>\n      <th>SHIPMT_WGHT</th>\n      <th>SHIPMT_DIST_ROUTED</th>\n      <th>TRANSPORT_MODE</th>\n      <th>GOOD_CATEGORY</th>\n    </tr>\n  </thead>\n  <tbody>\n    <tr>\n      <th>2</th>\n      <td>3</td>\n      <td>26</td>\n      <td>47</td>\n      <td>2</td>\n      <td>4</td>\n      <td>4197</td>\n      <td>5134</td>\n      <td>579</td>\n      <td>Truck</td>\n      <td>Other Items</td>\n    </tr>\n    <tr>\n      <th>3</th>\n      <td>4</td>\n      <td>20</td>\n      <td>20</td>\n      <td>1</td>\n      <td>4</td>\n      <td>116</td>\n      <td>6</td>\n      <td>3</td>\n      <td>Truck</td>\n      <td>Other Items</td>\n    </tr>\n    <tr>\n      <th>4</th>\n      <td>5</td>\n      <td>12</td>\n      <td>12</td>\n      <td>3</td>\n      <td>5</td>\n      <td>388</td>\n      <td>527</td>\n      <td>201</td>\n      <td>Truck</td>\n      <td>Machinery and Energy-related items</td>\n    </tr>\n    <tr>\n      <th>5</th>\n      <td>6</td>\n      <td>24</td>\n      <td>30</td>\n      <td>2</td>\n      <td>4</td>\n      <td>3716</td>\n      <td>1132</td>\n      <td>2265</td>\n      <td>Truck</td>\n      <td>Other Items</td>\n    </tr>\n    <tr>\n      <th>6</th>\n      <td>7</td>\n      <td>19</td>\n      <td>19</td>\n      <td>3</td>\n      <td>5</td>\n      <td>43738</td>\n      <td>13501</td>\n      <td>22</td>\n      <td>Truck</td>\n      <td>Machinery and Energy-related items</td>\n    </tr>\n    <tr>\n      <th>...</th>\n      <td>...</td>\n      <td>...</td>\n      <td>...</td>\n      <td>...</td>\n      <td>...</td>\n      <td>...</td>\n      <td>...</td>\n      <td>...</td>\n      <td>...</td>\n      <td>...</td>\n    </tr>\n    <tr>\n      <th>4547655</th>\n      <td>4547656</td>\n      <td>48</td>\n      <td>48</td>\n      <td>3</td>\n      <td>5</td>\n      <td>1820</td>\n      <td>38</td>\n      <td>5</td>\n      <td>Truck</td>\n      <td>Machinery and Energy-related items</td>\n    </tr>\n    <tr>\n      <th>4547657</th>\n      <td>4547658</td>\n      <td>39</td>\n      <td>28</td>\n      <td>3</td>\n      <td>4</td>\n      <td>50808</td>\n      <td>29887</td>\n      <td>683</td>\n      <td>Truck</td>\n      <td>Perishable products and Pharmaceutical items</td>\n    </tr>\n    <tr>\n      <th>4547658</th>\n      <td>4547659</td>\n      <td>36</td>\n      <td>36</td>\n      <td>4</td>\n      <td>5</td>\n      <td>685</td>\n      <td>137</td>\n      <td>16</td>\n      <td>Truck</td>\n      <td>Other Items</td>\n    </tr>\n    <tr>\n      <th>4547659</th>\n      <td>4547660</td>\n      <td>48</td>\n      <td>48</td>\n      <td>3</td>\n      <td>5</td>\n      <td>915</td>\n      <td>1240</td>\n      <td>22</td>\n      <td>Truck</td>\n      <td>Machinery and Energy-related items</td>\n    </tr>\n    <tr>\n      <th>4547660</th>\n      <td>4547661</td>\n      <td>30</td>\n      <td>30</td>\n      <td>1</td>\n      <td>4</td>\n      <td>22482</td>\n      <td>75952</td>\n      <td>12</td>\n      <td>Truck</td>\n      <td>Perishable products and Pharmaceutical items</td>\n    </tr>\n  </tbody>\n</table>\n<p>3369067 rows × 10 columns</p>\n</div>"
     },
     "execution_count": 14,
     "metadata": {},
     "output_type": "execute_result"
    }
   ]
  },
  {
   "cell_type": "code",
   "source": [
    "import matplotlib.pyplot as plt\n",
    "import seaborn as sns\n",
    "\n",
    "stratify_by = df_full[['SHIPMT_VALUE', 'SHIPMT_WGHT', 'SHIPMT_DIST_ROUTED', 'GOOD_CATEGORY']].copy()\n",
    "\n",
    "def visualise(df):\n",
    "  for i in df.columns:\n",
    "    pd.set_option('float_format', '{:.2f}'.format)\n",
    "    print(\"----------------------\")\n",
    "    print(i)\n",
    "    print(\"----------------------\")\n",
    "    if df[i].dtype == \"float64\" or df[i].dtype == \"int64\":\n",
    "      fig, ax = plt.subplots()\n",
    "      ax.boxplot(df[i])\n",
    "      ax.ticklabel_format(style='plain', axis='y')\n",
    "      plt.show()\n",
    "      print(df[i].describe())\n",
    "    else:\n",
    "      fig, ax = plt.subplots()\n",
    "      sns.countplot(x=i, data=df, ax=ax)\n",
    "      ax.ticklabel_format(style='plain', axis='y')\n",
    "      plt.show()\n",
    "      print(df[i].describe())\n",
    "\n",
    "visualise(stratify_by)"
   ],
   "metadata": {
    "id": "inF0zwUP3tes"
   },
   "execution_count": 15,
   "outputs": [
    {
     "name": "stdout",
     "output_type": "stream",
     "text": [
      "----------------------\n",
      "SHIPMT_VALUE\n",
      "----------------------\n"
     ]
    },
    {
     "data": {
      "text/plain": "<Figure size 640x480 with 1 Axes>",
      "image/png": "[encoded data removed]"
     },
     "metadata": {},
     "output_type": "display_data"
    },
    {
     "name": "stdout",
     "output_type": "stream",
     "text": [
      "count     3369067.00\n",
      "mean        20566.47\n",
      "std       1210926.06\n",
      "min             1.00\n",
      "25%           311.00\n",
      "50%          1747.00\n",
      "75%          9685.00\n",
      "max     521277800.00\n",
      "Name: SHIPMT_VALUE, dtype: float64\n",
      "----------------------\n",
      "SHIPMT_WGHT\n",
      "----------------------\n"
     ]
    },
    {
     "data": {
      "text/plain": "<Figure size 640x480 with 1 Axes>",
      "image/png": "[encoded data removed]"
     },
     "metadata": {},
     "output_type": "display_data"
    },
    {
     "name": "stdout",
     "output_type": "stream",
     "text": [
      "count     3369067.00\n",
      "mean        38888.68\n",
      "std        911307.81\n",
      "min             1.00\n",
      "25%           127.00\n",
      "50%          1256.00\n",
      "75%         22039.00\n",
      "max     277029600.00\n",
      "Name: SHIPMT_WGHT, dtype: float64\n",
      "----------------------\n",
      "SHIPMT_DIST_ROUTED\n",
      "----------------------\n"
     ]
    },
    {
     "data": {
      "text/plain": "<Figure size 640x480 with 1 Axes>",
      "image/png": "[encoded data removed]"
     },
     "metadata": {},
     "output_type": "display_data"
    },
    {
     "name": "stdout",
     "output_type": "stream",
     "text": [
      "count   3369067.00\n",
      "mean        333.76\n",
      "std         562.73\n",
      "min           1.00\n",
      "25%          15.00\n",
      "50%          68.00\n",
      "75%         397.00\n",
      "max        6677.00\n",
      "Name: SHIPMT_DIST_ROUTED, dtype: float64\n",
      "----------------------\n",
      "GOOD_CATEGORY\n",
      "----------------------\n"
     ]
    },
    {
     "data": {
      "text/plain": "<Figure size 640x480 with 1 Axes>",
      "image/png": "[encoded data removed]"
     },
     "metadata": {},
     "output_type": "display_data"
    },
    {
     "name": "stdout",
     "output_type": "stream",
     "text": [
      "count                                3369067\n",
      "unique                                     3\n",
      "top       Machinery and Energy-related items\n",
      "freq                                 1394647\n",
      "Name: GOOD_CATEGORY, dtype: object\n"
     ]
    }
   ]
  },
  {
   "cell_type": "code",
   "source": [
    "from sklearn.model_selection import StratifiedShuffleSplit\n",
    "\n",
    "num_bins = 5\n",
    "\n",
    "for col in stratify_by.columns:\n",
    "  if stratify_by[col].dtype == \"float64\" or stratify_by[col].dtype == \"int64\":\n",
    "    # bin the continuous variable into `num_bins` bins\n",
    "    stratify_by[col+\"_bins\"] = pd.cut(stratify_by[col], bins=num_bins, labels=False)\n",
    "  else:\n",
    "    stratify_by[col+\"_bins\"] = stratify_by[col]\n",
    "\n",
    "# Then, perform stratified sampling on the new binned columns\n",
    "split = StratifiedShuffleSplit(n_splits=1, test_size=0.99995, random_state=2410)\n",
    "\n",
    "for train_index, test_index in split.split(stratify_by, stratify_by[col+\"_bins\"]):\n",
    "    df = df_full.iloc[train_index].copy()\n",
    "    test_df = df_full.iloc[test_index]\n",
    "\n",
    "# Finally, drop the temporary binned columns\n",
    "for col in stratify_by.columns:\n",
    "    if \"_bins\" in col:\n",
    "        stratify_by.drop(col, axis=1, inplace=True)\n",
    "\n",
    "print(df.shape, test_df.shape)"
   ],
   "metadata": {
    "id": "N9Esa_O_McmI"
   },
   "execution_count": 16,
   "outputs": [
    {
     "name": "stdout",
     "output_type": "stream",
     "text": [
      "(168, 10) (3368899, 10)\n"
     ]
    }
   ]
  },
  {
   "cell_type": "code",
   "source": [
    "visualise(df)"
   ],
   "metadata": {
    "id": "6dsnBV4PSm7Q"
   },
   "execution_count": 17,
   "outputs": [
    {
     "name": "stdout",
     "output_type": "stream",
     "text": [
      "----------------------\n",
      "SHIPMT_ID\n",
      "----------------------\n"
     ]
    },
    {
     "data": {
      "text/plain": "<Figure size 640x480 with 1 Axes>",
      "image/png": "[encoded data removed]"
     },
     "metadata": {},
     "output_type": "display_data"
    },
    {
     "name": "stdout",
     "output_type": "stream",
     "text": [
      "count       168.00\n",
      "mean    2163293.70\n",
      "std     1289758.53\n",
      "min       38585.00\n",
      "25%      976153.00\n",
      "50%     2071550.50\n",
      "75%     3311937.75\n",
      "max     4535452.00\n",
      "Name: SHIPMT_ID, dtype: float64\n",
      "----------------------\n",
      "ORIG_STATE\n",
      "----------------------\n"
     ]
    },
    {
     "data": {
      "text/plain": "<Figure size 640x480 with 1 Axes>",
      "image/png": "[encoded data removed]"
     },
     "metadata": {},
     "output_type": "display_data"
    },
    {
     "name": "stdout",
     "output_type": "stream",
     "text": [
      "count   168.00\n",
      "mean     28.88\n",
      "std      15.79\n",
      "min       1.00\n",
      "25%      13.00\n",
      "50%      31.00\n",
      "75%      42.00\n",
      "max      56.00\n",
      "Name: ORIG_STATE, dtype: float64\n",
      "----------------------\n",
      "DEST_STATE\n",
      "----------------------\n"
     ]
    },
    {
     "data": {
      "text/plain": "<Figure size 640x480 with 1 Axes>",
      "image/png": "[encoded data removed]"
     },
     "metadata": {},
     "output_type": "display_data"
    },
    {
     "name": "stdout",
     "output_type": "stream",
     "text": [
      "count   168.00\n",
      "mean     29.96\n",
      "std      16.27\n",
      "min       1.00\n",
      "25%      16.50\n",
      "50%      32.50\n",
      "75%      45.00\n",
      "max      56.00\n",
      "Name: DEST_STATE, dtype: float64\n",
      "----------------------\n",
      "QUARTER\n",
      "----------------------\n"
     ]
    },
    {
     "data": {
      "text/plain": "<Figure size 640x480 with 1 Axes>",
      "image/png": "[encoded data removed]"
     },
     "metadata": {},
     "output_type": "display_data"
    },
    {
     "name": "stdout",
     "output_type": "stream",
     "text": [
      "count   168.00\n",
      "mean      2.46\n",
      "std       1.05\n",
      "min       1.00\n",
      "25%       2.00\n",
      "50%       2.00\n",
      "75%       3.00\n",
      "max       4.00\n",
      "Name: QUARTER, dtype: float64\n",
      "----------------------\n",
      "MODE\n",
      "----------------------\n"
     ]
    },
    {
     "data": {
      "text/plain": "<Figure size 640x480 with 1 Axes>",
      "image/png": "[encoded data removed]"
     },
     "metadata": {},
     "output_type": "display_data"
    },
    {
     "name": "stdout",
     "output_type": "stream",
     "text": [
      "count   168.00\n",
      "mean      4.93\n",
      "std       1.93\n",
      "min       4.00\n",
      "25%       4.00\n",
      "50%       5.00\n",
      "75%       5.00\n",
      "max      15.00\n",
      "Name: MODE, dtype: float64\n",
      "----------------------\n",
      "SHIPMT_VALUE\n",
      "----------------------\n"
     ]
    },
    {
     "data": {
      "text/plain": "<Figure size 640x480 with 1 Axes>",
      "image/png": "[encoded data removed]"
     },
     "metadata": {},
     "output_type": "display_data"
    },
    {
     "name": "stdout",
     "output_type": "stream",
     "text": [
      "count       168.00\n",
      "mean      27899.28\n",
      "std      217058.71\n",
      "min          11.00\n",
      "25%         309.50\n",
      "50%        1138.50\n",
      "75%        6094.00\n",
      "max     2792586.00\n",
      "Name: SHIPMT_VALUE, dtype: float64\n",
      "----------------------\n",
      "SHIPMT_WGHT\n",
      "----------------------\n"
     ]
    },
    {
     "data": {
      "text/plain": "<Figure size 640x480 with 1 Axes>",
      "image/png": "[encoded data removed]"
     },
     "metadata": {},
     "output_type": "display_data"
    },
    {
     "name": "stdout",
     "output_type": "stream",
     "text": [
      "count      168.00\n",
      "mean     19919.70\n",
      "std      75475.28\n",
      "min          1.00\n",
      "25%        171.50\n",
      "50%       1104.50\n",
      "75%      17087.50\n",
      "max     829010.00\n",
      "Name: SHIPMT_WGHT, dtype: float64\n",
      "----------------------\n",
      "SHIPMT_DIST_ROUTED\n",
      "----------------------\n"
     ]
    },
    {
     "data": {
      "text/plain": "<Figure size 640x480 with 1 Axes>",
      "image/png": "[encoded data removed]"
     },
     "metadata": {},
     "output_type": "display_data"
    },
    {
     "name": "stdout",
     "output_type": "stream",
     "text": [
      "count    168.00\n",
      "mean     303.23\n",
      "std      498.55\n",
      "min        2.00\n",
      "25%       13.75\n",
      "50%       67.50\n",
      "75%      375.75\n",
      "max     3092.00\n",
      "Name: SHIPMT_DIST_ROUTED, dtype: float64\n",
      "----------------------\n",
      "TRANSPORT_MODE\n",
      "----------------------\n"
     ]
    },
    {
     "data": {
      "text/plain": "<Figure size 640x480 with 1 Axes>",
      "image/png": "[encoded data removed]"
     },
     "metadata": {},
     "output_type": "display_data"
    },
    {
     "name": "stdout",
     "output_type": "stream",
     "text": [
      "count       168\n",
      "unique        2\n",
      "top       Truck\n",
      "freq        164\n",
      "Name: TRANSPORT_MODE, dtype: object\n",
      "----------------------\n",
      "GOOD_CATEGORY\n",
      "----------------------\n"
     ]
    },
    {
     "data": {
      "text/plain": "<Figure size 640x480 with 1 Axes>",
      "image/png": "[encoded data removed]"
     },
     "metadata": {},
     "output_type": "display_data"
    },
    {
     "name": "stdout",
     "output_type": "stream",
     "text": [
      "count                                    168\n",
      "unique                                     3\n",
      "top       Machinery and Energy-related items\n",
      "freq                                      69\n",
      "Name: GOOD_CATEGORY, dtype: object\n"
     ]
    }
   ]
  },
  {
   "cell_type": "markdown",
   "source": [
    "### OUR INPUT: Import the data we researched online"
   ],
   "metadata": {
    "collapsed": false,
    "id": "1F-u_avFtBwR"
   }
  },
  {
   "cell_type": "code",
   "execution_count": 18,
   "outputs": [
    {
     "data": {
      "text/plain": "{'Truck': 484, 'Rail': 6, 'Air': 10}"
     },
     "execution_count": 18,
     "metadata": {},
     "output_type": "execute_result"
    }
   ],
   "source": [
    "def math_round(num):\n",
    "    if num % 1 >= 0.5:\n",
    "        return int(num) + 1\n",
    "    else:\n",
    "        return int(num)\n",
    "\n",
    "TOTAL_VEHICLES = 500\n",
    "capacity = df_full.groupby('TRANSPORT_MODE').count()['SHIPMT_ID'].transform(lambda x: x /\n",
    "    df_full.groupby('TRANSPORT_MODE').count()['SHIPMT_ID'].sum() * TOTAL_VEHICLES\n",
    ")\n",
    "capacity = capacity.reset_index()\n",
    "capacity['SHIPMT_ID'] = capacity['SHIPMT_ID'].apply(lambda x: math_round(x))\n",
    "capacity\n",
    "\n",
    "MODE_CAPACITY_NUMBER = {\n",
    "    TRANSPORT_MODE.TRUCK.value:     capacity.iloc[2,1],\n",
    "    TRANSPORT_MODE.RAIL.value:      capacity.iloc[1,1],\n",
    "    TRANSPORT_MODE.AIR.value:       capacity.iloc[0,1],\n",
    "}\n",
    "MODE_CAPACITY_NUMBER"
   ],
   "metadata": {
    "collapsed": false
   }
  },
  {
   "cell_type": "code",
   "execution_count": 19,
   "outputs": [],
   "source": [
    "CATEGORY_LATE_BY = {\n",
    "    SCTG_CATEGORIES.URGENT.value:   6,\n",
    "    SCTG_CATEGORIES.PRIORITY.value: 10,\n",
    "    SCTG_CATEGORIES.OTHERS.value:   14\n",
    "}"
   ],
   "metadata": {
    "collapsed": false
   }
  },
  {
   "cell_type": "code",
   "execution_count": 20,
   "outputs": [],
   "source": [
    "MODE_COSTS = {\n",
    "    TRANSPORT_MODE.TRUCK.value:     1.646*0.29125,\n",
    "    TRANSPORT_MODE.RAIL.value:      0.048*10,\n",
    "    TRANSPORT_MODE.AIR.value:       2.72,\n",
    "}\n",
    "\n",
    "MODE_CAPACITY_POUNDS = {\n",
    "    TRANSPORT_MODE.TRUCK.value:     60000,\n",
    "    TRANSPORT_MODE.RAIL.value:      190400,\n",
    "    TRANSPORT_MODE.AIR.value:       300000,\n",
    "}"
   ],
   "metadata": {
    "collapsed": false
   }
  },
  {
   "cell_type": "code",
   "source": [
    "MODE_TRAVEL_SPEED_PER_DAY = {\n",
    "    TRANSPORT_MODE.TRUCK.value:     620,\n",
    "    TRANSPORT_MODE.RAIL.value:      1860,\n",
    "    TRANSPORT_MODE.AIR.value:       4000,\n",
    "}"
   ],
   "metadata": {
    "id": "u2Mpxb9HsO61"
   },
   "execution_count": 21,
   "outputs": []
  },
  {
   "cell_type": "markdown",
   "source": [
    "### Data preprocessing"
   ],
   "metadata": {
    "collapsed": false,
    "id": "dutY72wHtBwS"
   }
  },
  {
   "cell_type": "markdown",
   "source": [
    "#### Getting source and destination"
   ],
   "metadata": {
    "collapsed": false,
    "id": "KH2Dk6NPtBwS"
   }
  },
  {
   "cell_type": "code",
   "execution_count": 22,
   "outputs": [],
   "source": [
    "reverse_index = {}\n",
    "\n",
    "SRC_TO_DST = []\n",
    "\n",
    "df = df.reset_index()\n",
    "\n",
    "ID = -1\n",
    "src_to_dst_mapper = {}\n",
    "for idx, row in df.iterrows():\n",
    "    src_to_dst = {'src': row['ORIG_STATE'], 'dst': row['DEST_STATE']}\n",
    "    key = frozenset(src_to_dst.items())\n",
    "    if key in src_to_dst_mapper:\n",
    "        SRC_TO_DST.append(src_to_dst_mapper[key])\n",
    "    else:\n",
    "        ID += 1\n",
    "        src_to_dst_mapper[key] = ID\n",
    "        SRC_TO_DST.append(src_to_dst_mapper[key])\n",
    "    if ID in reverse_index: \n",
    "      reverse_index[ID].append(idx)\n",
    "    else:\n",
    "      reverse_index[ID] = [idx]\n",
    "\n",
    "df.loc[:, 'SRC_TO_DST'] = SRC_TO_DST"
   ],
   "metadata": {
    "id": "ZGVoD6nZtBwT"
   }
  },
  {
   "cell_type": "code",
   "source": [
    "df.loc[:, 'Truck Cost'] = MODE_COSTS['Truck'] * df.loc[:, 'SHIPMT_DIST_ROUTED']\n",
    "df.loc[:, 'Rail Cost'] = MODE_COSTS['Rail'] * df.loc[:, 'SHIPMT_DIST_ROUTED']\n",
    "df.loc[:, 'Air Cost'] = MODE_COSTS['Air'] * df.loc[:, 'SHIPMT_WGHT']\n",
    "\n",
    "\n",
    "# EXTRA LAYER\n",
    "df.loc[:, 'Truck Duration'] = df.loc[:, 'SHIPMT_DIST_ROUTED'] / MODE_TRAVEL_SPEED_PER_DAY.get(TRANSPORT_MODE.TRUCK.value)\n",
    "df.loc[:, 'Rail Duration'] = df.loc[:, 'SHIPMT_DIST_ROUTED'] / MODE_TRAVEL_SPEED_PER_DAY.get(TRANSPORT_MODE.RAIL.value)\n",
    "df.loc[:, 'Air Duration'] = df.loc[:, 'SHIPMT_DIST_ROUTED'] / MODE_TRAVEL_SPEED_PER_DAY.get(TRANSPORT_MODE.AIR.value)\n",
    "\n",
    "df"
   ],
   "metadata": {
    "id": "DCplXDpK2MpA"
   },
   "execution_count": 23,
   "outputs": [
    {
     "data": {
      "text/plain": "       index  SHIPMT_ID  ORIG_STATE  DEST_STATE  QUARTER  MODE  SHIPMT_VALUE   \n0     125820     125821          50          33        3     5         20443  \\\n1     849035     849036          21          17        1     4         31225   \n2     969786     969787          17          17        2     4           958   \n3     436831     436832          45          45        4     4          5274   \n4     553517     553518           6           6        2     5          3371   \n..       ...        ...         ...         ...      ...   ...           ...   \n163  1237715    1237716          29          29        3     5          5388   \n164  3313544    3313545          21          18        4     4         14802   \n165  4199020    4199021          22          30        1     4          3747   \n166  2798030    2798031          42          39        3     4          7481   \n167   653514     653515          18          13        2     4            12   \n\n     SHIPMT_WGHT  SHIPMT_DIST_ROUTED TRANSPORT_MODE   \n0          51660                 133          Truck  \\\n1          31225                 484          Truck   \n2          45915                  81          Truck   \n3          12715                  27          Truck   \n4            603                 134          Truck   \n..           ...                 ...            ...   \n163         4671                 196          Truck   \n164         9866                   7          Truck   \n165         1043                1788          Truck   \n166          641                 546          Truck   \n167            1                 745          Truck   \n\n                                    GOOD_CATEGORY  SRC_TO_DST  Truck Cost   \n0                                     Other Items           0       63.76  \\\n1    Perishable products and Pharmaceutical items           1      232.03   \n2              Machinery and Energy-related items           2       38.83   \n3                                     Other Items           3       12.94   \n4                                     Other Items           4       64.24   \n..                                            ...         ...         ...   \n163                                   Other Items          16       93.96   \n164  Perishable products and Pharmaceutical items          95        3.36   \n165  Perishable products and Pharmaceutical items          96      857.16   \n166            Machinery and Energy-related items          97      261.75   \n167                                   Other Items          98      357.15   \n\n     Rail Cost  Air Cost  Truck Duration  Rail Duration  Air Duration  \n0        63.84 140515.20            0.21           0.07          0.03  \n1       232.32  84932.00            0.78           0.26          0.12  \n2        38.88 124888.80            0.13           0.04          0.02  \n3        12.96  34584.80            0.04           0.01          0.01  \n4        64.32   1640.16            0.22           0.07          0.03  \n..         ...       ...             ...            ...           ...  \n163      94.08  12705.12            0.32           0.11          0.05  \n164       3.36  26835.52            0.01           0.00          0.00  \n165     858.24   2836.96            2.88           0.96          0.45  \n166     262.08   1743.52            0.88           0.29          0.14  \n167     357.60      2.72            1.20           0.40          0.19  \n\n[168 rows x 18 columns]",
      "text/html": "<div>\n<style scoped>\n    .dataframe tbody tr th:only-of-type {\n        vertical-align: middle;\n    }\n\n    .dataframe tbody tr th {\n        vertical-align: top;\n    }\n\n    .dataframe thead th {\n        text-align: right;\n    }\n</style>\n<table border=\"1\" class=\"dataframe\">\n  <thead>\n    <tr style=\"text-align: right;\">\n      <th></th>\n      <th>index</th>\n      <th>SHIPMT_ID</th>\n      <th>ORIG_STATE</th>\n      <th>DEST_STATE</th>\n      <th>QUARTER</th>\n      <th>MODE</th>\n      <th>SHIPMT_VALUE</th>\n      <th>SHIPMT_WGHT</th>\n      <th>SHIPMT_DIST_ROUTED</th>\n      <th>TRANSPORT_MODE</th>\n      <th>GOOD_CATEGORY</th>\n      <th>SRC_TO_DST</th>\n      <th>Truck Cost</th>\n      <th>Rail Cost</th>\n      <th>Air Cost</th>\n      <th>Truck Duration</th>\n      <th>Rail Duration</th>\n      <th>Air Duration</th>\n    </tr>\n  </thead>\n  <tbody>\n    <tr>\n      <th>0</th>\n      <td>125820</td>\n      <td>125821</td>\n      <td>50</td>\n      <td>33</td>\n      <td>3</td>\n      <td>5</td>\n      <td>20443</td>\n      <td>51660</td>\n      <td>133</td>\n      <td>Truck</td>\n      <td>Other Items</td>\n      <td>0</td>\n      <td>63.76</td>\n      <td>63.84</td>\n      <td>140515.20</td>\n      <td>0.21</td>\n      <td>0.07</td>\n      <td>0.03</td>\n    </tr>\n    <tr>\n      <th>1</th>\n      <td>849035</td>\n      <td>849036</td>\n      <td>21</td>\n      <td>17</td>\n      <td>1</td>\n      <td>4</td>\n      <td>31225</td>\n      <td>31225</td>\n      <td>484</td>\n      <td>Truck</td>\n      <td>Perishable products and Pharmaceutical items</td>\n      <td>1</td>\n      <td>232.03</td>\n      <td>232.32</td>\n      <td>84932.00</td>\n      <td>0.78</td>\n      <td>0.26</td>\n      <td>0.12</td>\n    </tr>\n    <tr>\n      <th>2</th>\n      <td>969786</td>\n      <td>969787</td>\n      <td>17</td>\n      <td>17</td>\n      <td>2</td>\n      <td>4</td>\n      <td>958</td>\n      <td>45915</td>\n      <td>81</td>\n      <td>Truck</td>\n      <td>Machinery and Energy-related items</td>\n      <td>2</td>\n      <td>38.83</td>\n      <td>38.88</td>\n      <td>124888.80</td>\n      <td>0.13</td>\n      <td>0.04</td>\n      <td>0.02</td>\n    </tr>\n    <tr>\n      <th>3</th>\n      <td>436831</td>\n      <td>436832</td>\n      <td>45</td>\n      <td>45</td>\n      <td>4</td>\n      <td>4</td>\n      <td>5274</td>\n      <td>12715</td>\n      <td>27</td>\n      <td>Truck</td>\n      <td>Other Items</td>\n      <td>3</td>\n      <td>12.94</td>\n      <td>12.96</td>\n      <td>34584.80</td>\n      <td>0.04</td>\n      <td>0.01</td>\n      <td>0.01</td>\n    </tr>\n    <tr>\n      <th>4</th>\n      <td>553517</td>\n      <td>553518</td>\n      <td>6</td>\n      <td>6</td>\n      <td>2</td>\n      <td>5</td>\n      <td>3371</td>\n      <td>603</td>\n      <td>134</td>\n      <td>Truck</td>\n      <td>Other Items</td>\n      <td>4</td>\n      <td>64.24</td>\n      <td>64.32</td>\n      <td>1640.16</td>\n      <td>0.22</td>\n      <td>0.07</td>\n      <td>0.03</td>\n    </tr>\n    <tr>\n      <th>...</th>\n      <td>...</td>\n      <td>...</td>\n      <td>...</td>\n      <td>...</td>\n      <td>...</td>\n      <td>...</td>\n      <td>...</td>\n      <td>...</td>\n      <td>...</td>\n      <td>...</td>\n      <td>...</td>\n      <td>...</td>\n      <td>...</td>\n      <td>...</td>\n      <td>...</td>\n      <td>...</td>\n      <td>...</td>\n      <td>...</td>\n    </tr>\n    <tr>\n      <th>163</th>\n      <td>1237715</td>\n      <td>1237716</td>\n      <td>29</td>\n      <td>29</td>\n      <td>3</td>\n      <td>5</td>\n      <td>5388</td>\n      <td>4671</td>\n      <td>196</td>\n      <td>Truck</td>\n      <td>Other Items</td>\n      <td>16</td>\n      <td>93.96</td>\n      <td>94.08</td>\n      <td>12705.12</td>\n      <td>0.32</td>\n      <td>0.11</td>\n      <td>0.05</td>\n    </tr>\n    <tr>\n      <th>164</th>\n      <td>3313544</td>\n      <td>3313545</td>\n      <td>21</td>\n      <td>18</td>\n      <td>4</td>\n      <td>4</td>\n      <td>14802</td>\n      <td>9866</td>\n      <td>7</td>\n      <td>Truck</td>\n      <td>Perishable products and Pharmaceutical items</td>\n      <td>95</td>\n      <td>3.36</td>\n      <td>3.36</td>\n      <td>26835.52</td>\n      <td>0.01</td>\n      <td>0.00</td>\n      <td>0.00</td>\n    </tr>\n    <tr>\n      <th>165</th>\n      <td>4199020</td>\n      <td>4199021</td>\n      <td>22</td>\n      <td>30</td>\n      <td>1</td>\n      <td>4</td>\n      <td>3747</td>\n      <td>1043</td>\n      <td>1788</td>\n      <td>Truck</td>\n      <td>Perishable products and Pharmaceutical items</td>\n      <td>96</td>\n      <td>857.16</td>\n      <td>858.24</td>\n      <td>2836.96</td>\n      <td>2.88</td>\n      <td>0.96</td>\n      <td>0.45</td>\n    </tr>\n    <tr>\n      <th>166</th>\n      <td>2798030</td>\n      <td>2798031</td>\n      <td>42</td>\n      <td>39</td>\n      <td>3</td>\n      <td>4</td>\n      <td>7481</td>\n      <td>641</td>\n      <td>546</td>\n      <td>Truck</td>\n      <td>Machinery and Energy-related items</td>\n      <td>97</td>\n      <td>261.75</td>\n      <td>262.08</td>\n      <td>1743.52</td>\n      <td>0.88</td>\n      <td>0.29</td>\n      <td>0.14</td>\n    </tr>\n    <tr>\n      <th>167</th>\n      <td>653514</td>\n      <td>653515</td>\n      <td>18</td>\n      <td>13</td>\n      <td>2</td>\n      <td>4</td>\n      <td>12</td>\n      <td>1</td>\n      <td>745</td>\n      <td>Truck</td>\n      <td>Other Items</td>\n      <td>98</td>\n      <td>357.15</td>\n      <td>357.60</td>\n      <td>2.72</td>\n      <td>1.20</td>\n      <td>0.40</td>\n      <td>0.19</td>\n    </tr>\n  </tbody>\n</table>\n<p>168 rows × 18 columns</p>\n</div>"
     },
     "execution_count": 23,
     "metadata": {},
     "output_type": "execute_result"
    }
   ]
  },
  {
   "cell_type": "markdown",
   "source": [
    "## Variables"
   ],
   "metadata": {
    "id": "CJYOUtOd-JTC"
   }
  },
  {
   "cell_type": "code",
   "source": [
    "S = df[['ORIG_STATE', 'DEST_STATE', 'GOOD_CATEGORY', 'SHIPMT_WGHT','SHIPMT_VALUE', 'SHIPMT_ID']].copy().values\n",
    "S"
   ],
   "metadata": {
    "id": "-_ibFXlR49G-"
   },
   "execution_count": 24,
   "outputs": [
    {
     "data": {
      "text/plain": "array([[50, 33, 'Other Items', 51660, 20443, 125821],\n       [21, 17, 'Perishable products and Pharmaceutical items', 31225,\n        31225, 849036],\n       [17, 17, 'Machinery and Energy-related items', 45915, 958, 969787],\n       ...,\n       [22, 30, 'Perishable products and Pharmaceutical items', 1043,\n        3747, 4199021],\n       [42, 39, 'Machinery and Energy-related items', 641, 7481, 2798031],\n       [18, 13, 'Other Items', 1, 12, 653515]], dtype=object)"
     },
     "execution_count": 24,
     "metadata": {},
     "output_type": "execute_result"
    }
   ]
  },
  {
   "cell_type": "code",
   "source": [
    "costs = df[['Truck Cost', 'Rail Cost', 'Air Cost']]\n",
    "costs.columns =  TRANSPORT_MODE.TRUCK.value, TRANSPORT_MODE.RAIL.value, TRANSPORT_MODE.AIR.value\n",
    "costs"
   ],
   "metadata": {
    "id": "-qW5uwVB49_9"
   },
   "execution_count": 25,
   "outputs": [
    {
     "data": {
      "text/plain": "     Truck   Rail       Air\n0    63.76  63.84 140515.20\n1   232.03 232.32  84932.00\n2    38.83  38.88 124888.80\n3    12.94  12.96  34584.80\n4    64.24  64.32   1640.16\n..     ...    ...       ...\n163  93.96  94.08  12705.12\n164   3.36   3.36  26835.52\n165 857.16 858.24   2836.96\n166 261.75 262.08   1743.52\n167 357.15 357.60      2.72\n\n[168 rows x 3 columns]",
      "text/html": "<div>\n<style scoped>\n    .dataframe tbody tr th:only-of-type {\n        vertical-align: middle;\n    }\n\n    .dataframe tbody tr th {\n        vertical-align: top;\n    }\n\n    .dataframe thead th {\n        text-align: right;\n    }\n</style>\n<table border=\"1\" class=\"dataframe\">\n  <thead>\n    <tr style=\"text-align: right;\">\n      <th></th>\n      <th>Truck</th>\n      <th>Rail</th>\n      <th>Air</th>\n    </tr>\n  </thead>\n  <tbody>\n    <tr>\n      <th>0</th>\n      <td>63.76</td>\n      <td>63.84</td>\n      <td>140515.20</td>\n    </tr>\n    <tr>\n      <th>1</th>\n      <td>232.03</td>\n      <td>232.32</td>\n      <td>84932.00</td>\n    </tr>\n    <tr>\n      <th>2</th>\n      <td>38.83</td>\n      <td>38.88</td>\n      <td>124888.80</td>\n    </tr>\n    <tr>\n      <th>3</th>\n      <td>12.94</td>\n      <td>12.96</td>\n      <td>34584.80</td>\n    </tr>\n    <tr>\n      <th>4</th>\n      <td>64.24</td>\n      <td>64.32</td>\n      <td>1640.16</td>\n    </tr>\n    <tr>\n      <th>...</th>\n      <td>...</td>\n      <td>...</td>\n      <td>...</td>\n    </tr>\n    <tr>\n      <th>163</th>\n      <td>93.96</td>\n      <td>94.08</td>\n      <td>12705.12</td>\n    </tr>\n    <tr>\n      <th>164</th>\n      <td>3.36</td>\n      <td>3.36</td>\n      <td>26835.52</td>\n    </tr>\n    <tr>\n      <th>165</th>\n      <td>857.16</td>\n      <td>858.24</td>\n      <td>2836.96</td>\n    </tr>\n    <tr>\n      <th>166</th>\n      <td>261.75</td>\n      <td>262.08</td>\n      <td>1743.52</td>\n    </tr>\n    <tr>\n      <th>167</th>\n      <td>357.15</td>\n      <td>357.60</td>\n      <td>2.72</td>\n    </tr>\n  </tbody>\n</table>\n<p>168 rows × 3 columns</p>\n</div>"
     },
     "execution_count": 25,
     "metadata": {},
     "output_type": "execute_result"
    }
   ]
  },
  {
   "cell_type": "code",
   "execution_count": 26,
   "outputs": [
    {
     "data": {
      "text/plain": "     Truck  Rail  Air\n0     0.21  0.07 0.03\n1     0.78  0.26 0.12\n2     0.13  0.04 0.02\n3     0.04  0.01 0.01\n4     0.22  0.07 0.03\n..     ...   ...  ...\n163   0.32  0.11 0.05\n164   0.01  0.00 0.00\n165   2.88  0.96 0.45\n166   0.88  0.29 0.14\n167   1.20  0.40 0.19\n\n[168 rows x 3 columns]",
      "text/html": "<div>\n<style scoped>\n    .dataframe tbody tr th:only-of-type {\n        vertical-align: middle;\n    }\n\n    .dataframe tbody tr th {\n        vertical-align: top;\n    }\n\n    .dataframe thead th {\n        text-align: right;\n    }\n</style>\n<table border=\"1\" class=\"dataframe\">\n  <thead>\n    <tr style=\"text-align: right;\">\n      <th></th>\n      <th>Truck</th>\n      <th>Rail</th>\n      <th>Air</th>\n    </tr>\n  </thead>\n  <tbody>\n    <tr>\n      <th>0</th>\n      <td>0.21</td>\n      <td>0.07</td>\n      <td>0.03</td>\n    </tr>\n    <tr>\n      <th>1</th>\n      <td>0.78</td>\n      <td>0.26</td>\n      <td>0.12</td>\n    </tr>\n    <tr>\n      <th>2</th>\n      <td>0.13</td>\n      <td>0.04</td>\n      <td>0.02</td>\n    </tr>\n    <tr>\n      <th>3</th>\n      <td>0.04</td>\n      <td>0.01</td>\n      <td>0.01</td>\n    </tr>\n    <tr>\n      <th>4</th>\n      <td>0.22</td>\n      <td>0.07</td>\n      <td>0.03</td>\n    </tr>\n    <tr>\n      <th>...</th>\n      <td>...</td>\n      <td>...</td>\n      <td>...</td>\n    </tr>\n    <tr>\n      <th>163</th>\n      <td>0.32</td>\n      <td>0.11</td>\n      <td>0.05</td>\n    </tr>\n    <tr>\n      <th>164</th>\n      <td>0.01</td>\n      <td>0.00</td>\n      <td>0.00</td>\n    </tr>\n    <tr>\n      <th>165</th>\n      <td>2.88</td>\n      <td>0.96</td>\n      <td>0.45</td>\n    </tr>\n    <tr>\n      <th>166</th>\n      <td>0.88</td>\n      <td>0.29</td>\n      <td>0.14</td>\n    </tr>\n    <tr>\n      <th>167</th>\n      <td>1.20</td>\n      <td>0.40</td>\n      <td>0.19</td>\n    </tr>\n  </tbody>\n</table>\n<p>168 rows × 3 columns</p>\n</div>"
     },
     "execution_count": 26,
     "metadata": {},
     "output_type": "execute_result"
    }
   ],
   "source": [
    "duration = df[['Truck Duration', 'Rail Duration', 'Air Duration']]\n",
    "duration.columns = TRANSPORT_MODE.TRUCK.value, TRANSPORT_MODE.RAIL.value, TRANSPORT_MODE.AIR.value\n",
    "duration"
   ],
   "metadata": {
    "collapsed": false
   }
  },
  {
   "cell_type": "code",
   "execution_count": 27,
   "outputs": [
    {
     "data": {
      "text/plain": "[484, 6, 10]"
     },
     "execution_count": 27,
     "metadata": {},
     "output_type": "execute_result"
    }
   ],
   "source": [
    "A = [\n",
    "    MODE_CAPACITY_NUMBER.get(TRANSPORT_MODE.TRUCK.value),\n",
    "    MODE_CAPACITY_NUMBER.get(TRANSPORT_MODE.RAIL.value),\n",
    "    MODE_CAPACITY_NUMBER.get(TRANSPORT_MODE.AIR.value),\n",
    "]\n",
    "A"
   ],
   "metadata": {
    "collapsed": false
   }
  },
  {
   "cell_type": "code",
   "execution_count": 28,
   "outputs": [
    {
     "data": {
      "text/plain": "{'Perishable products and Pharmaceutical items': 6,\n 'Machinery and Energy-related items': 10,\n 'Other Items': 14}"
     },
     "execution_count": 28,
     "metadata": {},
     "output_type": "execute_result"
    }
   ],
   "source": [
    "Pref = CATEGORY_LATE_BY\n",
    "Pref"
   ],
   "metadata": {
    "collapsed": false
   }
  },
  {
   "cell_type": "code",
   "execution_count": 29,
   "outputs": [
    {
     "data": {
      "text/plain": "[60000, 190400, 300000]"
     },
     "execution_count": 29,
     "metadata": {},
     "output_type": "execute_result"
    }
   ],
   "source": [
    "cap = [\n",
    "    MODE_CAPACITY_POUNDS.get(TRANSPORT_MODE.TRUCK.value),\n",
    "    MODE_CAPACITY_POUNDS.get(TRANSPORT_MODE.RAIL.value),\n",
    "    MODE_CAPACITY_POUNDS.get(TRANSPORT_MODE.AIR.value),\n",
    "]\n",
    "cap"
   ],
   "metadata": {
    "collapsed": false
   }
  },
  {
   "cell_type": "markdown",
   "source": [
    "## Objective Value"
   ],
   "metadata": {
    "id": "g208SOQw_oUV"
   }
  },
  {
   "cell_type": "code",
   "execution_count": 30,
   "outputs": [],
   "source": [
    "def mode_mapper(mode):\n",
    "    if mode == 0:\n",
    "        return 'Truck'\n",
    "    if mode == 1:\n",
    "        return 'Rail'\n",
    "    if mode == 2:\n",
    "        return 'Air'\n",
    "    return 'ERROR'\n",
    "\n",
    "def pretty_print(X):\n",
    "    res = {}\n",
    "\n",
    "    for sid in range(X.shape[0]):\n",
    "        id_found = False\n",
    "        for mode in range(X.shape[1]):\n",
    "            for _bin in range(X.shape[2]):\n",
    "                if X[sid][mode][_bin] == 1 and id_found == False:\n",
    "                    print(f\"{sid}: Good {S[sid][-1]} shipped on day {_bin} using {mode_mapper(mode)}\")\n",
    "                    if _bin in res and mode_mapper(mode) in res[_bin]:\n",
    "                        res[_bin][mode_mapper(mode)].append(S[sid][-1])\n",
    "                    else:\n",
    "                        res.setdefault(_bin, {})[mode_mapper(mode)] = [S[sid][-1]]\n",
    "                    id_found = True\n",
    "                elif X[sid][mode][_bin] == 1 and id_found == True:\n",
    "                    print(\"ERROR ERROR ERROR: MORE THAN 1 SHIPMENT MADE FOR THIS GOOD\")\n",
    "\n",
    "    print(sorted(res.items()))"
   ],
   "metadata": {
    "collapsed": false
   }
  },
  {
   "cell_type": "markdown",
   "source": [
    "### BASE"
   ],
   "metadata": {
    "collapsed": false
   }
  },
  {
   "cell_type": "code",
   "execution_count": 31,
   "outputs": [
    {
     "name": "stdout",
     "output_type": "stream",
     "text": [
      "Set parameter Username\n",
      "Academic license - for non-commercial use only - expires 2024-04-01\n",
      "Being solved by Gurobi...\n",
      "Solution status: 2\n",
      "Running time: 0.1460s\n",
      "18337.332599999994\n"
     ]
    }
   ],
   "source": [
    "model = ro.Model('BC2410 Project - Base')\n",
    "NUM_ROWS = df.shape[0]\n",
    "NUM_MODES = len(TRANSPORT_MODE.__members__)\n",
    "NUM_DAYS = 99\n",
    "\n",
    "# X looks like this\n",
    "#    +--------+\n",
    "#   /        /|\n",
    "#  /        / |\n",
    "# +--------+  | NUM_ROWS\n",
    "# |        |  |\n",
    "# |        |  +\n",
    "# |        | /\n",
    "# |        |/ NUM_DAYS\n",
    "# +--------+\n",
    "# TRUCK, RAIL, AR\n",
    "X = model.dvar((NUM_ROWS, NUM_MODES, NUM_DAYS), 'B')\n",
    "# for i in TRUCK, RAIL, AIR:\n",
    "# id \\ day 1 2 3 4 5\n",
    "# 01\n",
    "# 02\n",
    "# 03\n",
    "\n",
    "shipping_cost    = sum(X[row][mode][day]*costs.iloc[row,mode]\n",
    "                       for row in range(NUM_ROWS) for mode in range(NUM_MODES) for day in range(NUM_DAYS))\n",
    "shipping_penalty = sum(X[row][mode][day]*max(day+1-Pref.get(S[row][2]),0)*0.05*S[row][4]\n",
    "                       for row in range(NUM_ROWS) for mode in range(NUM_MODES) for day in range(NUM_DAYS))\n",
    "model.min(shipping_cost + shipping_penalty)\n",
    "\n",
    "\n",
    "# each good must be transported by one and only one transport mode within the NUM_DAYS days\n",
    "for row in range(NUM_ROWS):\n",
    "  model.st(sum(X[row][mode][day] for mode in range(NUM_MODES) for day in range(NUM_DAYS)) == 1)\n",
    "\n",
    "\n",
    "# weight cannot exceed maximum capacity\n",
    "for mode in range(NUM_MODES):\n",
    "    for day in range(NUM_DAYS):\n",
    "        model.st(sum(X[row][mode][day]*S[row][3] for row in range(NUM_ROWS)) <= cap[mode]*A[mode])\n",
    "\n",
    "model.solve(grb)\n",
    "print(model.get())"
   ],
   "metadata": {
    "collapsed": false
   }
  },
  {
   "cell_type": "code",
   "execution_count": 32,
   "outputs": [
    {
     "data": {
      "text/plain": "array([[[1., 0., 0., ..., 0., 0., 0.],\n        [0., 0., 0., ..., 0., 0., 0.],\n        [0., 0., 0., ..., 0., 0., 0.]],\n\n       [[1., 0., 0., ..., 0., 0., 0.],\n        [0., 0., 0., ..., 0., 0., 0.],\n        [0., 0., 0., ..., 0., 0., 0.]],\n\n       [[0., 0., 0., ..., 0., 0., 0.],\n        [0., 0., 0., ..., 0., 0., 0.],\n        [0., 0., 0., ..., 0., 0., 0.]],\n\n       ...,\n\n       [[0., 0., 0., ..., 0., 0., 0.],\n        [0., 0., 0., ..., 0., 0., 0.],\n        [0., 0., 0., ..., 0., 0., 0.]],\n\n       [[0., 0., 0., ..., 0., 0., 0.],\n        [0., 0., 0., ..., 0., 0., 0.],\n        [0., 0., 0., ..., 0., 0., 0.]],\n\n       [[0., 0., 0., ..., 0., 0., 0.],\n        [0., 0., 0., ..., 0., 0., 0.],\n        [0., 1., 0., ..., 0., 0., 0.]]])"
     },
     "execution_count": 32,
     "metadata": {},
     "output_type": "execute_result"
    }
   ],
   "source": [
    "pd.set_option('display.max_rows', None)\n",
    "pd.set_option('display.max_columns', None)\n",
    "X.get()"
   ],
   "metadata": {
    "collapsed": false
   }
  },
  {
   "cell_type": "code",
   "execution_count": 33,
   "outputs": [
    {
     "name": "stdout",
     "output_type": "stream",
     "text": [
      "0: Good 125821 shipped on day 0 using Truck\n",
      "1: Good 849036 shipped on day 0 using Truck\n",
      "2: Good 969787 shipped on day 9 using Truck\n",
      "3: Good 436832 shipped on day 0 using Truck\n",
      "4: Good 553518 shipped on day 0 using Truck\n",
      "5: Good 125060 shipped on day 0 using Truck\n",
      "6: Good 112596 shipped on day 0 using Truck\n",
      "7: Good 4023275 shipped on day 0 using Truck\n",
      "8: Good 2057996 shipped on day 0 using Truck\n",
      "9: Good 1306301 shipped on day 0 using Truck\n",
      "10: Good 2491696 shipped on day 0 using Truck\n",
      "11: Good 3575755 shipped on day 9 using Truck\n",
      "12: Good 2740770 shipped on day 0 using Truck\n",
      "13: Good 1279214 shipped on day 0 using Air\n",
      "14: Good 2996416 shipped on day 13 using Truck\n",
      "15: Good 3727865 shipped on day 13 using Truck\n",
      "16: Good 2962021 shipped on day 0 using Truck\n",
      "17: Good 547723 shipped on day 0 using Truck\n",
      "18: Good 3840863 shipped on day 12 using Truck\n",
      "19: Good 2662882 shipped on day 0 using Truck\n",
      "20: Good 573774 shipped on day 13 using Truck\n",
      "21: Good 1839826 shipped on day 0 using Truck\n",
      "22: Good 3890229 shipped on day 9 using Truck\n",
      "23: Good 2801408 shipped on day 0 using Truck\n",
      "24: Good 1876389 shipped on day 0 using Truck\n",
      "25: Good 238045 shipped on day 7 using Air\n",
      "26: Good 3965131 shipped on day 12 using Truck\n",
      "27: Good 231963 shipped on day 9 using Truck\n",
      "28: Good 1612890 shipped on day 13 using Truck\n",
      "29: Good 2621163 shipped on day 0 using Truck\n",
      "30: Good 4181950 shipped on day 0 using Truck\n",
      "31: Good 356796 shipped on day 0 using Truck\n",
      "32: Good 734816 shipped on day 0 using Truck\n",
      "33: Good 2534852 shipped on day 0 using Truck\n",
      "34: Good 2719695 shipped on day 0 using Truck\n",
      "35: Good 1650182 shipped on day 13 using Truck\n",
      "36: Good 1471696 shipped on day 9 using Truck\n",
      "37: Good 1585055 shipped on day 0 using Truck\n",
      "38: Good 296510 shipped on day 9 using Air\n",
      "39: Good 675690 shipped on day 13 using Truck\n",
      "40: Good 4139283 shipped on day 13 using Truck\n",
      "41: Good 2730588 shipped on day 0 using Truck\n",
      "42: Good 638088 shipped on day 5 using Truck\n",
      "43: Good 1432186 shipped on day 5 using Truck\n",
      "44: Good 3804325 shipped on day 9 using Truck\n",
      "45: Good 2026893 shipped on day 13 using Truck\n",
      "46: Good 1976493 shipped on day 5 using Truck\n",
      "47: Good 1963547 shipped on day 6 using Truck\n",
      "48: Good 949498 shipped on day 13 using Truck\n",
      "49: Good 3818434 shipped on day 0 using Truck\n",
      "50: Good 3378646 shipped on day 13 using Truck\n",
      "51: Good 3397255 shipped on day 10 using Truck\n",
      "52: Good 3444308 shipped on day 0 using Truck\n",
      "53: Good 928839 shipped on day 9 using Truck\n",
      "54: Good 3229362 shipped on day 13 using Truck\n",
      "55: Good 2671977 shipped on day 0 using Truck\n",
      "56: Good 38585 shipped on day 9 using Truck\n",
      "57: Good 3942660 shipped on day 5 using Truck\n",
      "58: Good 2786194 shipped on day 3 using Truck\n",
      "59: Good 4349203 shipped on day 1 using Truck\n",
      "60: Good 566802 shipped on day 9 using Truck\n",
      "61: Good 703114 shipped on day 13 using Truck\n",
      "62: Good 2551253 shipped on day 0 using Truck\n",
      "63: Good 667737 shipped on day 9 using Air\n",
      "64: Good 4020820 shipped on day 13 using Air\n",
      "65: Good 3347799 shipped on day 0 using Truck\n",
      "66: Good 496547 shipped on day 10 using Air\n",
      "67: Good 1398564 shipped on day 13 using Truck\n",
      "68: Good 55606 shipped on day 0 using Truck\n",
      "69: Good 3918335 shipped on day 0 using Truck\n",
      "70: Good 1365808 shipped on day 1 using Truck\n",
      "71: Good 1147166 shipped on day 9 using Air\n",
      "72: Good 2685474 shipped on day 0 using Truck\n",
      "73: Good 3681667 shipped on day 9 using Truck\n",
      "74: Good 978275 shipped on day 6 using Truck\n",
      "75: Good 2163111 shipped on day 3 using Truck\n",
      "76: Good 400870 shipped on day 5 using Truck\n",
      "77: Good 2302381 shipped on day 1 using Truck\n",
      "78: Good 370863 shipped on day 9 using Truck\n",
      "79: Good 3279640 shipped on day 9 using Truck\n",
      "80: Good 1617849 shipped on day 9 using Truck\n",
      "81: Good 1952407 shipped on day 5 using Truck\n",
      "82: Good 3102710 shipped on day 0 using Truck\n",
      "83: Good 3829101 shipped on day 13 using Air\n",
      "84: Good 3171434 shipped on day 9 using Truck\n",
      "85: Good 195396 shipped on day 0 using Truck\n",
      "86: Good 1073339 shipped on day 0 using Truck\n",
      "87: Good 908928 shipped on day 5 using Truck\n",
      "88: Good 2534538 shipped on day 5 using Truck\n",
      "89: Good 852882 shipped on day 9 using Truck\n",
      "90: Good 125915 shipped on day 9 using Truck\n",
      "91: Good 4391944 shipped on day 4 using Truck\n",
      "92: Good 3166104 shipped on day 5 using Truck\n",
      "93: Good 1598408 shipped on day 13 using Air\n",
      "94: Good 1019179 shipped on day 8 using Truck\n",
      "95: Good 4072054 shipped on day 0 using Truck\n",
      "96: Good 756523 shipped on day 4 using Truck\n",
      "97: Good 2026657 shipped on day 4 using Truck\n",
      "98: Good 3557893 shipped on day 0 using Truck\n",
      "99: Good 3351931 shipped on day 13 using Truck\n",
      "100: Good 2721395 shipped on day 4 using Truck\n",
      "101: Good 3338043 shipped on day 9 using Truck\n",
      "102: Good 1844130 shipped on day 5 using Truck\n",
      "103: Good 4519368 shipped on day 13 using Truck\n",
      "104: Good 1326430 shipped on day 4 using Truck\n",
      "105: Good 611907 shipped on day 0 using Truck\n",
      "106: Good 1691031 shipped on day 7 using Truck\n",
      "107: Good 3995894 shipped on day 3 using Truck\n",
      "108: Good 4324801 shipped on day 2 using Truck\n",
      "109: Good 882471 shipped on day 3 using Truck\n",
      "110: Good 3736286 shipped on day 13 using Truck\n",
      "111: Good 1380295 shipped on day 2 using Truck\n",
      "112: Good 2072038 shipped on day 2 using Truck\n",
      "113: Good 2014136 shipped on day 0 using Truck\n",
      "114: Good 4535452 shipped on day 13 using Truck\n",
      "115: Good 1720049 shipped on day 9 using Truck\n",
      "116: Good 885180 shipped on day 0 using Truck\n",
      "117: Good 2239457 shipped on day 9 using Truck\n",
      "118: Good 3360862 shipped on day 0 using Truck\n",
      "119: Good 1849048 shipped on day 2 using Truck\n",
      "120: Good 1066979 shipped on day 5 using Truck\n",
      "121: Good 1655410 shipped on day 13 using Truck\n",
      "122: Good 3827709 shipped on day 5 using Truck\n",
      "123: Good 927781 shipped on day 13 using Truck\n",
      "124: Good 2071063 shipped on day 13 using Truck\n",
      "125: Good 1052147 shipped on day 5 using Truck\n",
      "126: Good 1146650 shipped on day 13 using Truck\n",
      "127: Good 3730682 shipped on day 5 using Truck\n",
      "128: Good 2670944 shipped on day 9 using Air\n",
      "129: Good 3529227 shipped on day 5 using Truck\n",
      "130: Good 2930371 shipped on day 13 using Truck\n",
      "131: Good 782068 shipped on day 9 using Truck\n",
      "132: Good 2611657 shipped on day 13 using Truck\n",
      "133: Good 2093067 shipped on day 9 using Truck\n",
      "134: Good 2324842 shipped on day 9 using Truck\n",
      "135: Good 603829 shipped on day 0 using Air\n",
      "136: Good 3762475 shipped on day 9 using Truck\n",
      "137: Good 2064344 shipped on day 9 using Truck\n",
      "138: Good 2826629 shipped on day 0 using Air\n",
      "139: Good 3745171 shipped on day 13 using Truck\n",
      "140: Good 2447946 shipped on day 13 using Truck\n",
      "141: Good 2890223 shipped on day 0 using Truck\n",
      "142: Good 3311402 shipped on day 5 using Truck\n",
      "143: Good 41242 shipped on day 0 using Truck\n",
      "144: Good 1313546 shipped on day 13 using Truck\n",
      "145: Good 2698443 shipped on day 1 using Air\n",
      "146: Good 2030685 shipped on day 13 using Truck\n",
      "147: Good 2652321 shipped on day 13 using Truck\n",
      "148: Good 724072 shipped on day 1 using Truck\n",
      "149: Good 3209766 shipped on day 0 using Truck\n",
      "150: Good 3092283 shipped on day 0 using Truck\n",
      "151: Good 3679238 shipped on day 0 using Truck\n",
      "152: Good 2182231 shipped on day 5 using Truck\n",
      "153: Good 3190208 shipped on day 9 using Truck\n",
      "154: Good 3936095 shipped on day 13 using Truck\n",
      "155: Good 1514782 shipped on day 9 using Truck\n",
      "156: Good 1492372 shipped on day 0 using Truck\n",
      "157: Good 151805 shipped on day 13 using Truck\n",
      "158: Good 2497382 shipped on day 2 using Truck\n",
      "159: Good 4513068 shipped on day 1 using Truck\n",
      "160: Good 3637537 shipped on day 1 using Truck\n",
      "161: Good 1173158 shipped on day 0 using Air\n",
      "162: Good 83516 shipped on day 9 using Truck\n",
      "163: Good 1237716 shipped on day 13 using Truck\n",
      "164: Good 3313545 shipped on day 1 using Truck\n",
      "165: Good 4199021 shipped on day 5 using Truck\n",
      "166: Good 2798031 shipped on day 9 using Truck\n",
      "167: Good 653515 shipped on day 1 using Air\n",
      "[(0, {'Truck': [125821, 849036, 436832, 553518, 125060, 112596, 4023275, 2057996, 1306301, 2491696, 2740770, 2962021, 547723, 2662882, 1839826, 2801408, 1876389, 2621163, 4181950, 356796, 734816, 2534852, 2719695, 1585055, 2730588, 3818434, 3444308, 2671977, 2551253, 3347799, 55606, 3918335, 2685474, 3102710, 195396, 1073339, 4072054, 3557893, 611907, 2014136, 885180, 3360862, 2890223, 41242, 3209766, 3092283, 3679238, 1492372], 'Air': [1279214, 603829, 2826629, 1173158]}), (1, {'Truck': [4349203, 1365808, 2302381, 724072, 4513068, 3637537, 3313545], 'Air': [2698443, 653515]}), (2, {'Truck': [4324801, 1380295, 2072038, 1849048, 2497382]}), (3, {'Truck': [2786194, 2163111, 3995894, 882471]}), (4, {'Truck': [4391944, 756523, 2026657, 2721395, 1326430]}), (5, {'Truck': [638088, 1432186, 1976493, 3942660, 400870, 1952407, 908928, 2534538, 3166104, 1844130, 1066979, 3827709, 1052147, 3730682, 3529227, 3311402, 2182231, 4199021]}), (6, {'Truck': [1963547, 978275]}), (7, {'Air': [238045], 'Truck': [1691031]}), (8, {'Truck': [1019179]}), (9, {'Truck': [969787, 3575755, 3890229, 231963, 1471696, 3804325, 928839, 38585, 566802, 3681667, 370863, 3279640, 1617849, 3171434, 852882, 125915, 3338043, 1720049, 2239457, 782068, 2093067, 2324842, 3762475, 2064344, 3190208, 1514782, 83516, 2798031], 'Air': [296510, 667737, 1147166, 2670944]}), (10, {'Truck': [3397255], 'Air': [496547]}), (12, {'Truck': [3840863, 3965131]}), (13, {'Truck': [2996416, 3727865, 573774, 1612890, 1650182, 675690, 4139283, 2026893, 949498, 3378646, 3229362, 703114, 1398564, 3351931, 4519368, 3736286, 4535452, 1655410, 927781, 2071063, 1146650, 2930371, 2611657, 3745171, 2447946, 1313546, 2030685, 2652321, 3936095, 151805, 1237716], 'Air': [4020820, 3829101, 1598408]})]\n"
     ]
    }
   ],
   "source": [
    "pretty_print(X.get())"
   ],
   "metadata": {
    "collapsed": false
   }
  },
  {
   "cell_type": "markdown",
   "source": [
    "### EXTRA I & II"
   ],
   "metadata": {
    "collapsed": false
   }
  },
  {
   "cell_type": "code",
   "execution_count": 34,
   "outputs": [
    {
     "name": "stdout",
     "output_type": "stream",
     "text": [
      "Being solved by Gurobi...\n",
      "Solution status: 2\n",
      "Running time: 0.1770s\n"
     ]
    },
    {
     "ename": "RuntimeError",
     "evalue": "The model is unsolved or no solution is obtained.",
     "output_type": "error",
     "traceback": [
      "\u001B[1;31m---------------------------------------------------------------------------\u001B[0m",
      "\u001B[1;31mRuntimeError\u001B[0m                              Traceback (most recent call last)",
      "Cell \u001B[1;32mIn[34], line 49\u001B[0m\n\u001B[0;32m     47\u001B[0m pd\u001B[38;5;241m.\u001B[39mset_option(\u001B[38;5;124m'\u001B[39m\u001B[38;5;124mdisplay.max_columns\u001B[39m\u001B[38;5;124m'\u001B[39m, \u001B[38;5;28;01mNone\u001B[39;00m)\n\u001B[0;32m     48\u001B[0m model\u001B[38;5;241m.\u001B[39msolve(grb)\n\u001B[1;32m---> 49\u001B[0m \u001B[38;5;28mprint\u001B[39m(\u001B[43mmodel2\u001B[49m\u001B[38;5;241;43m.\u001B[39;49m\u001B[43mget\u001B[49m\u001B[43m(\u001B[49m\u001B[43m)\u001B[49m)\n",
      "File \u001B[1;32m~\\Downloads\\proje\\venv\\lib\\site-packages\\rsome\\ro.py:433\u001B[0m, in \u001B[0;36mModel.get\u001B[1;34m(self)\u001B[0m\n\u001B[0;32m    423\u001B[0m \u001B[38;5;250m\u001B[39m\u001B[38;5;124;03m\"\"\"\u001B[39;00m\n\u001B[0;32m    424\u001B[0m \u001B[38;5;124;03mReturn the optimal objective value of the solved model.\u001B[39;00m\n\u001B[0;32m    425\u001B[0m \n\u001B[1;32m   (...)\u001B[0m\n\u001B[0;32m    429\u001B[0m \u001B[38;5;124;03mis obtained.\u001B[39;00m\n\u001B[0;32m    430\u001B[0m \u001B[38;5;124;03m\"\"\"\u001B[39;00m\n\u001B[0;32m    432\u001B[0m \u001B[38;5;28;01mif\u001B[39;00m \u001B[38;5;28mself\u001B[39m\u001B[38;5;241m.\u001B[39mrc_model\u001B[38;5;241m.\u001B[39msolution \u001B[38;5;129;01mis\u001B[39;00m \u001B[38;5;28;01mNone\u001B[39;00m:\n\u001B[1;32m--> 433\u001B[0m     \u001B[38;5;28;01mraise\u001B[39;00m \u001B[38;5;167;01mRuntimeError\u001B[39;00m(\u001B[38;5;124m'\u001B[39m\u001B[38;5;124mThe model is unsolved or no solution is obtained.\u001B[39m\u001B[38;5;124m'\u001B[39m)\n\u001B[0;32m    434\u001B[0m \u001B[38;5;28;01mreturn\u001B[39;00m \u001B[38;5;28mself\u001B[39m\u001B[38;5;241m.\u001B[39msign \u001B[38;5;241m*\u001B[39m \u001B[38;5;28mself\u001B[39m\u001B[38;5;241m.\u001B[39mrc_model\u001B[38;5;241m.\u001B[39msolution\u001B[38;5;241m.\u001B[39mobjval\n",
      "\u001B[1;31mRuntimeError\u001B[0m: The model is unsolved or no solution is obtained."
     ]
    }
   ],
   "source": [
    "model2 = ro.Model('BC2410 Project - Extra I')\n",
    "X2 = model2.dvar((NUM_ROWS, NUM_MODES, NUM_DAYS), 'B')\n",
    "\n",
    "\n",
    "# this is the binary decision variable, y, indicating if a source-destination pair is being travelled on at least once\n",
    "NUM_SD = max(df['SRC_TO_DST'])+1\n",
    "y = model2.dvar((NUM_SD, NUM_MODES, NUM_DAYS), 'B')\n",
    "\n",
    "\n",
    "# EXTRA LAYER is the +duration\n",
    "import math\n",
    "shipping_cost    = sum(X2[row][mode][day]*costs.iloc[row,mode]\n",
    "                       for row in range(NUM_ROWS) for mode in range(NUM_MODES) for day in range(NUM_DAYS))\n",
    "shipping_penalty = sum(X2[row][mode][day]*max(math.ceil(day+1-Pref.get(S[row][2])+duration.iloc[row,mode]),0)*0.05*S[row][4]\n",
    "                       for row in range(NUM_ROWS) for mode in range(NUM_MODES) for day in range(NUM_DAYS))\n",
    "model2.min(shipping_cost + shipping_penalty)\n",
    "\n",
    "\n",
    "# each good must be transported by one and only one transport mode within the NUM_DAYS days\n",
    "for row in range(NUM_ROWS):\n",
    "  model2.st(sum(X2[row][mode][day] for mode in range(NUM_MODES) for day in range(NUM_DAYS)) == 1)\n",
    "\n",
    "\n",
    "# weight cannot exceed maximum capacity\n",
    "for mode in range(NUM_MODES):\n",
    "    for day in range(NUM_DAYS):\n",
    "        model2.st(sum(X2[row][mode][day]*S[row][3] for row in range(NUM_ROWS)) <= cap[mode]*A[mode])\n",
    "\n",
    "\n",
    "# the number of unique destinations to visit must be less than or equal to the number of transport we have\n",
    "for mode in range(NUM_MODES):\n",
    "  for day in range(NUM_DAYS):\n",
    "    model2.st(sum(y[src_dst][mode][day] for src_dst in range(NUM_SD)) <= A[mode])\n",
    "\n",
    "# this is to constrict y to make it dependent on X, another binary decision variable we have,\n",
    "# to reflect that multiple goods can reach the same destination\n",
    "\"\"\"\n",
    "y is a matrix of binary variables\n",
    "if y[src_to_dst][mode][day] == 1 => there is at least one shipment from src to dst being assigned to be shipped by s\n",
    "\"\"\"\n",
    "for mode in range(NUM_MODES):\n",
    "  for day in range(NUM_DAYS):\n",
    "    for src_to_dst, rows in reverse_index.items():\n",
    "      model2.st(sum(X2[row][mode][day] for row in rows) <= y[src_to_dst][mode][day]*9999)\n",
    "\n",
    "pd.set_option('display.max_rows', None)\n",
    "pd.set_option('display.max_columns', None)\n",
    "model.solve(grb)\n",
    "print(model2.get())"
   ],
   "metadata": {
    "collapsed": false
   }
  },
  {
   "cell_type": "code",
   "execution_count": null,
   "outputs": [],
   "source": [
    "pd.set_option('display.max_rows', None)\n",
    "pd.set_option('display.max_columns', None)\n",
    "X2.get()"
   ],
   "metadata": {
    "collapsed": false
   }
  },
  {
   "cell_type": "code",
   "execution_count": null,
   "outputs": [],
   "source": [
    "pretty_print(X2.get())"
   ],
   "metadata": {
    "collapsed": false
   }
  }
 ],
 "metadata": {
  "kernelspec": {
   "display_name": "Python 3",
   "language": "python",
   "name": "python3"
  },
  "language_info": {
   "codemirror_mode": {
    "name": "ipython",
    "version": 2
   },
   "file_extension": ".py",
   "mimetype": "text/x-python",
   "name": "python",
   "nbconvert_exporter": "python",
   "pygments_lexer": "ipython2",
   "version": "2.7.6"
  },
  "colab": {
   "provenance": []
  }
 },
 "nbformat": 4,
 "nbformat_minor": 0
}
